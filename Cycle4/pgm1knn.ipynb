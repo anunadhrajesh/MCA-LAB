{
 "cells": [
  {
   "cell_type": "code",
   "execution_count": null,
   "id": "02acd9f1",
   "metadata": {},
   "outputs": [],
   "source": [
    "# 1. Using the iris data set implement the KNN algorithm. Take different values for Test and training\n",
    "# data set .Also use different values for k. Also find the accuracy level."
   ]
  },
  {
   "cell_type": "code",
   "execution_count": 1,
   "id": "f1b0c505",
   "metadata": {},
   "outputs": [],
   "source": [
    "import numpy as np\n",
    "import matplotlib.pyplot as plt\n",
    "import pandas as pd\n",
    "\n",
    "dataset = pd.read_csv(\"iris.csv\")\n",
    "# print(dataset)\n",
    "# dataset.info()\n",
    "\n",
    "x = dataset.iloc[:, :-1].values\n",
    "y = dataset.iloc[:,4].values\n",
    "\n",
    "# print(x)\n",
    "# print(y)"
   ]
  },
  {
   "cell_type": "code",
   "execution_count": 2,
   "id": "18c4dd22",
   "metadata": {},
   "outputs": [],
   "source": [
    "from sklearn.model_selection import train_test_split\n",
    "x_train, x_test, y_train, y_test = train_test_split(x, y, test_size=0.20)\n",
    "\n",
    "# print(x_test)"
   ]
  },
  {
   "cell_type": "code",
   "execution_count": 3,
   "id": "ab5e9c4d",
   "metadata": {},
   "outputs": [],
   "source": [
    "# from sklearn.preprocessing import StandardScaler\n",
    "# scaler = StandardScaler()\n",
    "# scaler.fit(x_train)\n",
    "\n",
    "# x_train = scaler.transform(x_train)\n",
    "# x_test = scaler.transform(x_test)\n",
    "\n",
    "# print(x_train)"
   ]
  },
  {
   "cell_type": "code",
   "execution_count": 5,
   "id": "3ad58429",
   "metadata": {},
   "outputs": [
    {
     "data": {
      "text/plain": [
       "KNeighborsClassifier()"
      ]
     },
     "execution_count": 5,
     "metadata": {},
     "output_type": "execute_result"
    }
   ],
   "source": [
    "from sklearn.neighbors import KNeighborsClassifier\n",
    "classifier = KNeighborsClassifier(n_neighbors=5)\n",
    "classifier.fit(x_train, y_train)"
   ]
  },
  {
   "cell_type": "code",
   "execution_count": 6,
   "id": "211c4423",
   "metadata": {},
   "outputs": [
    {
     "name": "stdout",
     "output_type": "stream",
     "text": [
      "Accuracy: 0.9333333333333333\n"
     ]
    }
   ],
   "source": [
    "y_pred = classifier.predict(x_test)\n",
    "from sklearn.metrics import accuracy_score\n",
    "accuracy =accuracy_score(y_test,y_pred)\n",
    "print(\"Accuracy:\",accuracy)"
   ]
  },
  {
   "cell_type": "code",
   "execution_count": 7,
   "id": "fbfe09f7",
   "metadata": {},
   "outputs": [
    {
     "name": "stdout",
     "output_type": "stream",
     "text": [
      "Actual value: Versicolor Predicted value: Virginica\n",
      "Actual value: Versicolor Predicted value: Virginica\n",
      "Number of mislabeled points from test data set: 2\n"
     ]
    }
   ],
   "source": [
    "for (i,j) in zip(y_pred,y_test):\n",
    "    if i!=j:\n",
    "        print(\"Actual value:\",i,\"Predicted value:\",j)\n",
    "      \n",
    "print(\"Number of mislabeled points from test data set:\",(y_test != y_pred).sum())"
   ]
  },
  {
   "cell_type": "code",
   "execution_count": 8,
   "id": "326eafec",
   "metadata": {},
   "outputs": [
    {
     "name": "stdout",
     "output_type": "stream",
     "text": [
      "[[ 8  0  0]\n",
      " [ 0 13  0]\n",
      " [ 0  2  7]]\n",
      "              precision    recall  f1-score   support\n",
      "\n",
      "      Setosa       1.00      1.00      1.00         8\n",
      "  Versicolor       0.87      1.00      0.93        13\n",
      "   Virginica       1.00      0.78      0.88         9\n",
      "\n",
      "    accuracy                           0.93        30\n",
      "   macro avg       0.96      0.93      0.93        30\n",
      "weighted avg       0.94      0.93      0.93        30\n",
      "\n"
     ]
    }
   ],
   "source": [
    "y_pred = classifier.predict(x_test)\n",
    "from sklearn.metrics import classification_report, confusion_matrix\n",
    "print(confusion_matrix(y_test, y_pred))\n",
    "print(classification_report(y_test, y_pred))\n",
    "\n"
   ]
  }
 ],
 "metadata": {
  "kernelspec": {
   "display_name": "Python 3 (ipykernel)",
   "language": "python",
   "name": "python3"
  },
  "language_info": {
   "codemirror_mode": {
    "name": "ipython",
    "version": 3
   },
   "file_extension": ".py",
   "mimetype": "text/x-python",
   "name": "python",
   "nbconvert_exporter": "python",
   "pygments_lexer": "ipython3",
   "version": "3.9.7"
  }
 },
 "nbformat": 4,
 "nbformat_minor": 5
}
