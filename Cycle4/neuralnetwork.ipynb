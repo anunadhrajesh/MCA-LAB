{
 "cells": [
  {
   "cell_type": "code",
   "execution_count": null,
   "id": "0a6a7397",
   "metadata": {},
   "outputs": [],
   "source": [
    "# Create a neural network for the given ‘houseprice.csv’ to predict the whether\n",
    "# price of the house is above or below median value or not"
   ]
  },
  {
   "cell_type": "code",
   "execution_count": 25,
   "id": "5cf4dc81",
   "metadata": {},
   "outputs": [],
   "source": [
    "import tensorflow as tf\n",
    "import keras\n",
    "import pandas\n",
    "import sklearn\n",
    "import matplotlib\n",
    "import pandas as pd"
   ]
  },
  {
   "cell_type": "code",
   "execution_count": 26,
   "id": "d6516f66",
   "metadata": {},
   "outputs": [
    {
     "data": {
      "text/html": [
       "<div>\n",
       "<style scoped>\n",
       "    .dataframe tbody tr th:only-of-type {\n",
       "        vertical-align: middle;\n",
       "    }\n",
       "\n",
       "    .dataframe tbody tr th {\n",
       "        vertical-align: top;\n",
       "    }\n",
       "\n",
       "    .dataframe thead th {\n",
       "        text-align: right;\n",
       "    }\n",
       "</style>\n",
       "<table border=\"1\" class=\"dataframe\">\n",
       "  <thead>\n",
       "    <tr style=\"text-align: right;\">\n",
       "      <th></th>\n",
       "      <th>LotArea</th>\n",
       "      <th>OverallQual</th>\n",
       "      <th>OverallCond</th>\n",
       "      <th>TotalBsmtSF</th>\n",
       "      <th>FullBath</th>\n",
       "      <th>HalfBath</th>\n",
       "      <th>BedroomAbvGr</th>\n",
       "      <th>TotRmsAbvGrd</th>\n",
       "      <th>Fireplaces</th>\n",
       "      <th>GarageArea</th>\n",
       "      <th>AboveMedianPrice</th>\n",
       "    </tr>\n",
       "  </thead>\n",
       "  <tbody>\n",
       "    <tr>\n",
       "      <th>0</th>\n",
       "      <td>8450</td>\n",
       "      <td>7</td>\n",
       "      <td>5</td>\n",
       "      <td>856</td>\n",
       "      <td>2</td>\n",
       "      <td>1</td>\n",
       "      <td>3</td>\n",
       "      <td>8</td>\n",
       "      <td>0</td>\n",
       "      <td>548</td>\n",
       "      <td>1</td>\n",
       "    </tr>\n",
       "    <tr>\n",
       "      <th>1</th>\n",
       "      <td>9600</td>\n",
       "      <td>6</td>\n",
       "      <td>8</td>\n",
       "      <td>1262</td>\n",
       "      <td>2</td>\n",
       "      <td>0</td>\n",
       "      <td>3</td>\n",
       "      <td>6</td>\n",
       "      <td>1</td>\n",
       "      <td>460</td>\n",
       "      <td>1</td>\n",
       "    </tr>\n",
       "    <tr>\n",
       "      <th>2</th>\n",
       "      <td>11250</td>\n",
       "      <td>7</td>\n",
       "      <td>5</td>\n",
       "      <td>920</td>\n",
       "      <td>2</td>\n",
       "      <td>1</td>\n",
       "      <td>3</td>\n",
       "      <td>6</td>\n",
       "      <td>1</td>\n",
       "      <td>608</td>\n",
       "      <td>1</td>\n",
       "    </tr>\n",
       "    <tr>\n",
       "      <th>3</th>\n",
       "      <td>9550</td>\n",
       "      <td>7</td>\n",
       "      <td>5</td>\n",
       "      <td>756</td>\n",
       "      <td>1</td>\n",
       "      <td>0</td>\n",
       "      <td>3</td>\n",
       "      <td>7</td>\n",
       "      <td>1</td>\n",
       "      <td>642</td>\n",
       "      <td>0</td>\n",
       "    </tr>\n",
       "    <tr>\n",
       "      <th>4</th>\n",
       "      <td>14260</td>\n",
       "      <td>8</td>\n",
       "      <td>5</td>\n",
       "      <td>1145</td>\n",
       "      <td>2</td>\n",
       "      <td>1</td>\n",
       "      <td>4</td>\n",
       "      <td>9</td>\n",
       "      <td>1</td>\n",
       "      <td>836</td>\n",
       "      <td>1</td>\n",
       "    </tr>\n",
       "    <tr>\n",
       "      <th>...</th>\n",
       "      <td>...</td>\n",
       "      <td>...</td>\n",
       "      <td>...</td>\n",
       "      <td>...</td>\n",
       "      <td>...</td>\n",
       "      <td>...</td>\n",
       "      <td>...</td>\n",
       "      <td>...</td>\n",
       "      <td>...</td>\n",
       "      <td>...</td>\n",
       "      <td>...</td>\n",
       "    </tr>\n",
       "    <tr>\n",
       "      <th>1455</th>\n",
       "      <td>7917</td>\n",
       "      <td>6</td>\n",
       "      <td>5</td>\n",
       "      <td>953</td>\n",
       "      <td>2</td>\n",
       "      <td>1</td>\n",
       "      <td>3</td>\n",
       "      <td>7</td>\n",
       "      <td>1</td>\n",
       "      <td>460</td>\n",
       "      <td>1</td>\n",
       "    </tr>\n",
       "    <tr>\n",
       "      <th>1456</th>\n",
       "      <td>13175</td>\n",
       "      <td>6</td>\n",
       "      <td>6</td>\n",
       "      <td>1542</td>\n",
       "      <td>2</td>\n",
       "      <td>0</td>\n",
       "      <td>3</td>\n",
       "      <td>7</td>\n",
       "      <td>2</td>\n",
       "      <td>500</td>\n",
       "      <td>1</td>\n",
       "    </tr>\n",
       "    <tr>\n",
       "      <th>1457</th>\n",
       "      <td>9042</td>\n",
       "      <td>7</td>\n",
       "      <td>9</td>\n",
       "      <td>1152</td>\n",
       "      <td>2</td>\n",
       "      <td>0</td>\n",
       "      <td>4</td>\n",
       "      <td>9</td>\n",
       "      <td>2</td>\n",
       "      <td>252</td>\n",
       "      <td>1</td>\n",
       "    </tr>\n",
       "    <tr>\n",
       "      <th>1458</th>\n",
       "      <td>9717</td>\n",
       "      <td>5</td>\n",
       "      <td>6</td>\n",
       "      <td>1078</td>\n",
       "      <td>1</td>\n",
       "      <td>0</td>\n",
       "      <td>2</td>\n",
       "      <td>5</td>\n",
       "      <td>0</td>\n",
       "      <td>240</td>\n",
       "      <td>0</td>\n",
       "    </tr>\n",
       "    <tr>\n",
       "      <th>1459</th>\n",
       "      <td>9937</td>\n",
       "      <td>5</td>\n",
       "      <td>6</td>\n",
       "      <td>1256</td>\n",
       "      <td>1</td>\n",
       "      <td>1</td>\n",
       "      <td>3</td>\n",
       "      <td>6</td>\n",
       "      <td>0</td>\n",
       "      <td>276</td>\n",
       "      <td>0</td>\n",
       "    </tr>\n",
       "  </tbody>\n",
       "</table>\n",
       "<p>1460 rows × 11 columns</p>\n",
       "</div>"
      ],
      "text/plain": [
       "      LotArea  OverallQual  OverallCond  TotalBsmtSF  FullBath  HalfBath  \\\n",
       "0        8450            7            5          856         2         1   \n",
       "1        9600            6            8         1262         2         0   \n",
       "2       11250            7            5          920         2         1   \n",
       "3        9550            7            5          756         1         0   \n",
       "4       14260            8            5         1145         2         1   \n",
       "...       ...          ...          ...          ...       ...       ...   \n",
       "1455     7917            6            5          953         2         1   \n",
       "1456    13175            6            6         1542         2         0   \n",
       "1457     9042            7            9         1152         2         0   \n",
       "1458     9717            5            6         1078         1         0   \n",
       "1459     9937            5            6         1256         1         1   \n",
       "\n",
       "      BedroomAbvGr  TotRmsAbvGrd  Fireplaces  GarageArea  AboveMedianPrice  \n",
       "0                3             8           0         548                 1  \n",
       "1                3             6           1         460                 1  \n",
       "2                3             6           1         608                 1  \n",
       "3                3             7           1         642                 0  \n",
       "4                4             9           1         836                 1  \n",
       "...            ...           ...         ...         ...               ...  \n",
       "1455             3             7           1         460                 1  \n",
       "1456             3             7           2         500                 1  \n",
       "1457             4             9           2         252                 1  \n",
       "1458             2             5           0         240                 0  \n",
       "1459             3             6           0         276                 0  \n",
       "\n",
       "[1460 rows x 11 columns]"
      ]
     },
     "execution_count": 26,
     "metadata": {},
     "output_type": "execute_result"
    }
   ],
   "source": [
    "df = pd.read_csv('housepricedata.csv')\n",
    "df"
   ]
  },
  {
   "cell_type": "code",
   "execution_count": 27,
   "id": "3aaaebe9",
   "metadata": {},
   "outputs": [
    {
     "data": {
      "text/plain": [
       "array([[ 8450,     7,     5, ...,     0,   548,     1],\n",
       "       [ 9600,     6,     8, ...,     1,   460,     1],\n",
       "       [11250,     7,     5, ...,     1,   608,     1],\n",
       "       ...,\n",
       "       [ 9042,     7,     9, ...,     2,   252,     1],\n",
       "       [ 9717,     5,     6, ...,     0,   240,     0],\n",
       "       [ 9937,     5,     6, ...,     0,   276,     0]])"
      ]
     },
     "execution_count": 27,
     "metadata": {},
     "output_type": "execute_result"
    }
   ],
   "source": [
    "dataset = df.values\n",
    "dataset"
   ]
  },
  {
   "cell_type": "code",
   "execution_count": 28,
   "id": "641d9d09",
   "metadata": {},
   "outputs": [],
   "source": [
    "X = dataset[:,0:10]\n",
    "Y = dataset[:,10]"
   ]
  },
  {
   "cell_type": "code",
   "execution_count": 29,
   "id": "89a81968",
   "metadata": {},
   "outputs": [
    {
     "data": {
      "text/plain": [
       "array([[0.0334198 , 0.66666667, 0.5       , ..., 0.5       , 0.        ,\n",
       "        0.3864598 ],\n",
       "       [0.03879502, 0.55555556, 0.875     , ..., 0.33333333, 0.33333333,\n",
       "        0.32440056],\n",
       "       [0.04650728, 0.66666667, 0.5       , ..., 0.33333333, 0.33333333,\n",
       "        0.42877292],\n",
       "       ...,\n",
       "       [0.03618687, 0.66666667, 1.        , ..., 0.58333333, 0.66666667,\n",
       "        0.17771509],\n",
       "       [0.03934189, 0.44444444, 0.625     , ..., 0.25      , 0.        ,\n",
       "        0.16925247],\n",
       "       [0.04037019, 0.44444444, 0.625     , ..., 0.33333333, 0.        ,\n",
       "        0.19464034]])"
      ]
     },
     "execution_count": 29,
     "metadata": {},
     "output_type": "execute_result"
    }
   ],
   "source": [
    "from sklearn import preprocessing\n",
    "min_max_scaler = preprocessing.MinMaxScaler()\n",
    "X_scale = min_max_scaler.fit_transform(X)\n",
    "X_scale"
   ]
  },
  {
   "cell_type": "code",
   "execution_count": 30,
   "id": "f913343a",
   "metadata": {},
   "outputs": [
    {
     "name": "stdout",
     "output_type": "stream",
     "text": [
      "(1022, 10) (219, 10) (219, 10) (1022,) (219,) (219,)\n"
     ]
    }
   ],
   "source": [
    "from sklearn.model_selection import train_test_split\n",
    "X_train, X_val_and_test, Y_train, Y_val_and_test = train_test_split(X_scale, Y, test_size=0.3)\n",
    "X_val, X_test, Y_val, Y_test = train_test_split(X_val_and_test, Y_val_and_test, test_size=0.5)\n",
    "print(X_train.shape, X_val.shape, X_test.shape, Y_train.shape, Y_val.shape, Y_test.shape)"
   ]
  },
  {
   "cell_type": "code",
   "execution_count": 31,
   "id": "3c8550fb",
   "metadata": {},
   "outputs": [],
   "source": [
    "from keras.models import Sequential\n",
    "from keras.layers import Dense"
   ]
  },
  {
   "cell_type": "code",
   "execution_count": 32,
   "id": "ea6e6e89",
   "metadata": {},
   "outputs": [],
   "source": [
    "model = Sequential([\n",
    "    Dense(32, activation='relu', input_shape=(10,)),\n",
    "    Dense(32, activation='relu'),\n",
    "    Dense(1, activation='sigmoid'),\n",
    "])"
   ]
  },
  {
   "cell_type": "code",
   "execution_count": 33,
   "id": "43525a23",
   "metadata": {},
   "outputs": [],
   "source": [
    "model.compile(optimizer='sgd',\n",
    "              loss='binary_crossentropy',\n",
    "              metrics=['accuracy'])"
   ]
  },
  {
   "cell_type": "code",
   "execution_count": 34,
   "id": "d9db32f8",
   "metadata": {},
   "outputs": [
    {
     "name": "stdout",
     "output_type": "stream",
     "text": [
      "Epoch 1/100\n",
      "32/32 [==============================] - 0s 4ms/step - loss: 0.6904 - accuracy: 0.5147 - val_loss: 0.6895 - val_accuracy: 0.4932\n",
      "Epoch 2/100\n",
      "32/32 [==============================] - 0s 2ms/step - loss: 0.6828 - accuracy: 0.5176 - val_loss: 0.6837 - val_accuracy: 0.4932\n",
      "Epoch 3/100\n",
      "32/32 [==============================] - 0s 2ms/step - loss: 0.6765 - accuracy: 0.5166 - val_loss: 0.6789 - val_accuracy: 0.4932\n",
      "Epoch 4/100\n",
      "32/32 [==============================] - 0s 2ms/step - loss: 0.6711 - accuracy: 0.5215 - val_loss: 0.6749 - val_accuracy: 0.5068\n",
      "Epoch 5/100\n",
      "32/32 [==============================] - 0s 2ms/step - loss: 0.6664 - accuracy: 0.5333 - val_loss: 0.6714 - val_accuracy: 0.5251\n",
      "Epoch 6/100\n",
      "32/32 [==============================] - 0s 2ms/step - loss: 0.6620 - accuracy: 0.5587 - val_loss: 0.6681 - val_accuracy: 0.5388\n",
      "Epoch 7/100\n",
      "32/32 [==============================] - 0s 2ms/step - loss: 0.6579 - accuracy: 0.5685 - val_loss: 0.6649 - val_accuracy: 0.5616\n",
      "Epoch 8/100\n",
      "32/32 [==============================] - 0s 3ms/step - loss: 0.6538 - accuracy: 0.5871 - val_loss: 0.6616 - val_accuracy: 0.5708\n",
      "Epoch 9/100\n",
      "32/32 [==============================] - 0s 2ms/step - loss: 0.6496 - accuracy: 0.6067 - val_loss: 0.6582 - val_accuracy: 0.5799\n",
      "Epoch 10/100\n",
      "32/32 [==============================] - 0s 2ms/step - loss: 0.6453 - accuracy: 0.6184 - val_loss: 0.6546 - val_accuracy: 0.5936\n",
      "Epoch 11/100\n",
      "32/32 [==============================] - 0s 2ms/step - loss: 0.6408 - accuracy: 0.6350 - val_loss: 0.6509 - val_accuracy: 0.5982\n",
      "Epoch 12/100\n",
      "32/32 [==============================] - 0s 2ms/step - loss: 0.6362 - accuracy: 0.6458 - val_loss: 0.6469 - val_accuracy: 0.6119\n",
      "Epoch 13/100\n",
      "32/32 [==============================] - 0s 2ms/step - loss: 0.6314 - accuracy: 0.6605 - val_loss: 0.6427 - val_accuracy: 0.6256\n",
      "Epoch 14/100\n",
      "32/32 [==============================] - 0s 2ms/step - loss: 0.6264 - accuracy: 0.6986 - val_loss: 0.6385 - val_accuracy: 0.6347\n",
      "Epoch 15/100\n",
      "32/32 [==============================] - 0s 2ms/step - loss: 0.6211 - accuracy: 0.7143 - val_loss: 0.6339 - val_accuracy: 0.6575\n",
      "Epoch 16/100\n",
      "32/32 [==============================] - 0s 2ms/step - loss: 0.6155 - accuracy: 0.7202 - val_loss: 0.6290 - val_accuracy: 0.6804\n",
      "Epoch 17/100\n",
      "32/32 [==============================] - 0s 2ms/step - loss: 0.6097 - accuracy: 0.7378 - val_loss: 0.6238 - val_accuracy: 0.6986\n",
      "Epoch 18/100\n",
      "32/32 [==============================] - 0s 2ms/step - loss: 0.6035 - accuracy: 0.7427 - val_loss: 0.6181 - val_accuracy: 0.7123\n",
      "Epoch 19/100\n",
      "32/32 [==============================] - 0s 2ms/step - loss: 0.5968 - accuracy: 0.7632 - val_loss: 0.6122 - val_accuracy: 0.7260\n",
      "Epoch 20/100\n",
      "32/32 [==============================] - 0s 2ms/step - loss: 0.5897 - accuracy: 0.7661 - val_loss: 0.6060 - val_accuracy: 0.7306\n",
      "Epoch 21/100\n",
      "32/32 [==============================] - 0s 2ms/step - loss: 0.5823 - accuracy: 0.7828 - val_loss: 0.5995 - val_accuracy: 0.7534\n",
      "Epoch 22/100\n",
      "32/32 [==============================] - 0s 2ms/step - loss: 0.5747 - accuracy: 0.7935 - val_loss: 0.5928 - val_accuracy: 0.7626\n",
      "Epoch 23/100\n",
      "32/32 [==============================] - 0s 2ms/step - loss: 0.5669 - accuracy: 0.7955 - val_loss: 0.5859 - val_accuracy: 0.7580\n",
      "Epoch 24/100\n",
      "32/32 [==============================] - 0s 2ms/step - loss: 0.5589 - accuracy: 0.7984 - val_loss: 0.5785 - val_accuracy: 0.7717\n",
      "Epoch 25/100\n",
      "32/32 [==============================] - 0s 2ms/step - loss: 0.5508 - accuracy: 0.8063 - val_loss: 0.5710 - val_accuracy: 0.7900\n",
      "Epoch 26/100\n",
      "32/32 [==============================] - 0s 2ms/step - loss: 0.5425 - accuracy: 0.8121 - val_loss: 0.5635 - val_accuracy: 0.7991\n",
      "Epoch 27/100\n",
      "32/32 [==============================] - 0s 2ms/step - loss: 0.5341 - accuracy: 0.8219 - val_loss: 0.5563 - val_accuracy: 0.7991\n",
      "Epoch 28/100\n",
      "32/32 [==============================] - 0s 2ms/step - loss: 0.5257 - accuracy: 0.8160 - val_loss: 0.5481 - val_accuracy: 0.8128\n",
      "Epoch 29/100\n",
      "32/32 [==============================] - 0s 2ms/step - loss: 0.5171 - accuracy: 0.8366 - val_loss: 0.5406 - val_accuracy: 0.8128\n",
      "Epoch 30/100\n",
      "32/32 [==============================] - 0s 2ms/step - loss: 0.5086 - accuracy: 0.8376 - val_loss: 0.5324 - val_accuracy: 0.8174\n",
      "Epoch 31/100\n",
      "32/32 [==============================] - 0s 2ms/step - loss: 0.4998 - accuracy: 0.8483 - val_loss: 0.5243 - val_accuracy: 0.8219\n",
      "Epoch 32/100\n",
      "32/32 [==============================] - 0s 2ms/step - loss: 0.4911 - accuracy: 0.8523 - val_loss: 0.5170 - val_accuracy: 0.8219\n",
      "Epoch 33/100\n",
      "32/32 [==============================] - 0s 2ms/step - loss: 0.4828 - accuracy: 0.8532 - val_loss: 0.5088 - val_accuracy: 0.8219\n",
      "Epoch 34/100\n",
      "32/32 [==============================] - 0s 2ms/step - loss: 0.4741 - accuracy: 0.8562 - val_loss: 0.5008 - val_accuracy: 0.8174\n",
      "Epoch 35/100\n",
      "32/32 [==============================] - 0s 2ms/step - loss: 0.4654 - accuracy: 0.8571 - val_loss: 0.4927 - val_accuracy: 0.8219\n",
      "Epoch 36/100\n",
      "32/32 [==============================] - 0s 2ms/step - loss: 0.4573 - accuracy: 0.8630 - val_loss: 0.4853 - val_accuracy: 0.8265\n",
      "Epoch 37/100\n",
      "32/32 [==============================] - 0s 2ms/step - loss: 0.4493 - accuracy: 0.8630 - val_loss: 0.4776 - val_accuracy: 0.8311\n",
      "Epoch 38/100\n",
      "32/32 [==============================] - 0s 2ms/step - loss: 0.4414 - accuracy: 0.8659 - val_loss: 0.4707 - val_accuracy: 0.8311\n",
      "Epoch 39/100\n",
      "32/32 [==============================] - 0s 2ms/step - loss: 0.4337 - accuracy: 0.8659 - val_loss: 0.4631 - val_accuracy: 0.8356\n",
      "Epoch 40/100\n",
      "32/32 [==============================] - 0s 2ms/step - loss: 0.4260 - accuracy: 0.8679 - val_loss: 0.4559 - val_accuracy: 0.8311\n",
      "Epoch 41/100\n",
      "32/32 [==============================] - 0s 2ms/step - loss: 0.4188 - accuracy: 0.8689 - val_loss: 0.4502 - val_accuracy: 0.8311\n",
      "Epoch 42/100\n",
      "32/32 [==============================] - 0s 2ms/step - loss: 0.4121 - accuracy: 0.8669 - val_loss: 0.4430 - val_accuracy: 0.8356\n",
      "Epoch 43/100\n",
      "32/32 [==============================] - 0s 2ms/step - loss: 0.4052 - accuracy: 0.8669 - val_loss: 0.4365 - val_accuracy: 0.8356\n",
      "Epoch 44/100\n",
      "32/32 [==============================] - 0s 2ms/step - loss: 0.3987 - accuracy: 0.8699 - val_loss: 0.4310 - val_accuracy: 0.8356\n",
      "Epoch 45/100\n",
      "32/32 [==============================] - 0s 2ms/step - loss: 0.3927 - accuracy: 0.8708 - val_loss: 0.4242 - val_accuracy: 0.8356\n",
      "Epoch 46/100\n",
      "32/32 [==============================] - 0s 1ms/step - loss: 0.3867 - accuracy: 0.8708 - val_loss: 0.4188 - val_accuracy: 0.8356\n",
      "Epoch 47/100\n",
      "32/32 [==============================] - 0s 2ms/step - loss: 0.3811 - accuracy: 0.8669 - val_loss: 0.4131 - val_accuracy: 0.8356\n",
      "Epoch 48/100\n",
      "32/32 [==============================] - 0s 2ms/step - loss: 0.3758 - accuracy: 0.8689 - val_loss: 0.4078 - val_accuracy: 0.8356\n",
      "Epoch 49/100\n",
      "32/32 [==============================] - 0s 2ms/step - loss: 0.3706 - accuracy: 0.8708 - val_loss: 0.4022 - val_accuracy: 0.8402\n",
      "Epoch 50/100\n",
      "32/32 [==============================] - 0s 2ms/step - loss: 0.3657 - accuracy: 0.8708 - val_loss: 0.3983 - val_accuracy: 0.8402\n",
      "Epoch 51/100\n",
      "32/32 [==============================] - 0s 2ms/step - loss: 0.3609 - accuracy: 0.8718 - val_loss: 0.3931 - val_accuracy: 0.8402\n",
      "Epoch 52/100\n",
      "32/32 [==============================] - 0s 2ms/step - loss: 0.3568 - accuracy: 0.8708 - val_loss: 0.3886 - val_accuracy: 0.8402\n",
      "Epoch 53/100\n",
      "32/32 [==============================] - 0s 2ms/step - loss: 0.3527 - accuracy: 0.8679 - val_loss: 0.3852 - val_accuracy: 0.8356\n",
      "Epoch 54/100\n",
      "32/32 [==============================] - 0s 2ms/step - loss: 0.3485 - accuracy: 0.8748 - val_loss: 0.3829 - val_accuracy: 0.8402\n",
      "Epoch 55/100\n",
      "32/32 [==============================] - 0s 2ms/step - loss: 0.3452 - accuracy: 0.8738 - val_loss: 0.3773 - val_accuracy: 0.8402\n",
      "Epoch 56/100\n",
      "32/32 [==============================] - 0s 2ms/step - loss: 0.3412 - accuracy: 0.8708 - val_loss: 0.3761 - val_accuracy: 0.8402\n",
      "Epoch 57/100\n",
      "32/32 [==============================] - 0s 2ms/step - loss: 0.3385 - accuracy: 0.8748 - val_loss: 0.3700 - val_accuracy: 0.8356\n",
      "Epoch 58/100\n",
      "32/32 [==============================] - 0s 1ms/step - loss: 0.3348 - accuracy: 0.8689 - val_loss: 0.3665 - val_accuracy: 0.8402\n",
      "Epoch 59/100\n",
      "32/32 [==============================] - 0s 2ms/step - loss: 0.3318 - accuracy: 0.8748 - val_loss: 0.3625 - val_accuracy: 0.8447\n",
      "Epoch 60/100\n",
      "32/32 [==============================] - 0s 2ms/step - loss: 0.3290 - accuracy: 0.8708 - val_loss: 0.3606 - val_accuracy: 0.8402\n",
      "Epoch 61/100\n",
      "32/32 [==============================] - 0s 2ms/step - loss: 0.3260 - accuracy: 0.8718 - val_loss: 0.3576 - val_accuracy: 0.8356\n",
      "Epoch 62/100\n",
      "32/32 [==============================] - 0s 2ms/step - loss: 0.3239 - accuracy: 0.8728 - val_loss: 0.3560 - val_accuracy: 0.8447\n",
      "Epoch 63/100\n",
      "32/32 [==============================] - 0s 2ms/step - loss: 0.3216 - accuracy: 0.8728 - val_loss: 0.3534 - val_accuracy: 0.8402\n",
      "Epoch 64/100\n",
      "32/32 [==============================] - 0s 1ms/step - loss: 0.3189 - accuracy: 0.8748 - val_loss: 0.3488 - val_accuracy: 0.8493\n",
      "Epoch 65/100\n",
      "32/32 [==============================] - 0s 2ms/step - loss: 0.3168 - accuracy: 0.8748 - val_loss: 0.3469 - val_accuracy: 0.8493\n",
      "Epoch 66/100\n",
      "32/32 [==============================] - 0s 2ms/step - loss: 0.3146 - accuracy: 0.8708 - val_loss: 0.3440 - val_accuracy: 0.8493\n",
      "Epoch 67/100\n",
      "32/32 [==============================] - 0s 2ms/step - loss: 0.3129 - accuracy: 0.8718 - val_loss: 0.3439 - val_accuracy: 0.8447\n",
      "Epoch 68/100\n",
      "32/32 [==============================] - 0s 1ms/step - loss: 0.3107 - accuracy: 0.8738 - val_loss: 0.3422 - val_accuracy: 0.8447\n",
      "Epoch 69/100\n",
      "32/32 [==============================] - 0s 2ms/step - loss: 0.3092 - accuracy: 0.8738 - val_loss: 0.3400 - val_accuracy: 0.8447\n",
      "Epoch 70/100\n",
      "32/32 [==============================] - 0s 1ms/step - loss: 0.3072 - accuracy: 0.8757 - val_loss: 0.3362 - val_accuracy: 0.8447\n",
      "Epoch 71/100\n",
      "32/32 [==============================] - 0s 1ms/step - loss: 0.3045 - accuracy: 0.8757 - val_loss: 0.3335 - val_accuracy: 0.8493\n",
      "Epoch 72/100\n",
      "32/32 [==============================] - 0s 2ms/step - loss: 0.3040 - accuracy: 0.8757 - val_loss: 0.3327 - val_accuracy: 0.8493\n",
      "Epoch 73/100\n",
      "32/32 [==============================] - 0s 2ms/step - loss: 0.3025 - accuracy: 0.8767 - val_loss: 0.3330 - val_accuracy: 0.8447\n",
      "Epoch 74/100\n",
      "32/32 [==============================] - 0s 2ms/step - loss: 0.3005 - accuracy: 0.8738 - val_loss: 0.3305 - val_accuracy: 0.8539\n",
      "Epoch 75/100\n",
      "32/32 [==============================] - 0s 2ms/step - loss: 0.2993 - accuracy: 0.8767 - val_loss: 0.3279 - val_accuracy: 0.8493\n",
      "Epoch 76/100\n",
      "32/32 [==============================] - 0s 2ms/step - loss: 0.2977 - accuracy: 0.8777 - val_loss: 0.3259 - val_accuracy: 0.8539\n",
      "Epoch 77/100\n",
      "32/32 [==============================] - 0s 2ms/step - loss: 0.2961 - accuracy: 0.8796 - val_loss: 0.3240 - val_accuracy: 0.8493\n",
      "Epoch 78/100\n",
      "32/32 [==============================] - 0s 2ms/step - loss: 0.2945 - accuracy: 0.8806 - val_loss: 0.3223 - val_accuracy: 0.8493\n",
      "Epoch 79/100\n",
      "32/32 [==============================] - 0s 2ms/step - loss: 0.2938 - accuracy: 0.8796 - val_loss: 0.3220 - val_accuracy: 0.8539\n",
      "Epoch 80/100\n",
      "32/32 [==============================] - 0s 2ms/step - loss: 0.2918 - accuracy: 0.8806 - val_loss: 0.3217 - val_accuracy: 0.8493\n",
      "Epoch 81/100\n",
      "32/32 [==============================] - 0s 1ms/step - loss: 0.2916 - accuracy: 0.8787 - val_loss: 0.3208 - val_accuracy: 0.8493\n",
      "Epoch 82/100\n",
      "32/32 [==============================] - 0s 2ms/step - loss: 0.2898 - accuracy: 0.8787 - val_loss: 0.3196 - val_accuracy: 0.8493\n",
      "Epoch 83/100\n",
      "32/32 [==============================] - 0s 1ms/step - loss: 0.2888 - accuracy: 0.8796 - val_loss: 0.3181 - val_accuracy: 0.8493\n",
      "Epoch 84/100\n",
      "32/32 [==============================] - 0s 2ms/step - loss: 0.2872 - accuracy: 0.8836 - val_loss: 0.3198 - val_accuracy: 0.8447\n",
      "Epoch 85/100\n",
      "32/32 [==============================] - 0s 2ms/step - loss: 0.2865 - accuracy: 0.8816 - val_loss: 0.3188 - val_accuracy: 0.8447\n",
      "Epoch 86/100\n",
      "32/32 [==============================] - 0s 2ms/step - loss: 0.2856 - accuracy: 0.8796 - val_loss: 0.3151 - val_accuracy: 0.8493\n",
      "Epoch 87/100\n",
      "32/32 [==============================] - 0s 2ms/step - loss: 0.2845 - accuracy: 0.8806 - val_loss: 0.3115 - val_accuracy: 0.8539\n",
      "Epoch 88/100\n",
      "32/32 [==============================] - 0s 2ms/step - loss: 0.2838 - accuracy: 0.8777 - val_loss: 0.3105 - val_accuracy: 0.8539\n",
      "Epoch 89/100\n",
      "32/32 [==============================] - 0s 2ms/step - loss: 0.2837 - accuracy: 0.8845 - val_loss: 0.3119 - val_accuracy: 0.8539\n",
      "Epoch 90/100\n",
      "32/32 [==============================] - 0s 2ms/step - loss: 0.2815 - accuracy: 0.8826 - val_loss: 0.3105 - val_accuracy: 0.8539\n",
      "Epoch 91/100\n",
      "32/32 [==============================] - 0s 2ms/step - loss: 0.2805 - accuracy: 0.8836 - val_loss: 0.3105 - val_accuracy: 0.8539\n",
      "Epoch 92/100\n",
      "32/32 [==============================] - 0s 2ms/step - loss: 0.2801 - accuracy: 0.8836 - val_loss: 0.3073 - val_accuracy: 0.8539\n",
      "Epoch 93/100\n",
      "32/32 [==============================] - 0s 2ms/step - loss: 0.2788 - accuracy: 0.8845 - val_loss: 0.3068 - val_accuracy: 0.8539\n",
      "Epoch 94/100\n",
      "32/32 [==============================] - 0s 2ms/step - loss: 0.2785 - accuracy: 0.8836 - val_loss: 0.3044 - val_accuracy: 0.8539\n",
      "Epoch 95/100\n",
      "32/32 [==============================] - 0s 2ms/step - loss: 0.2773 - accuracy: 0.8836 - val_loss: 0.3044 - val_accuracy: 0.8539\n",
      "Epoch 96/100\n",
      "32/32 [==============================] - 0s 1ms/step - loss: 0.2763 - accuracy: 0.8855 - val_loss: 0.3062 - val_accuracy: 0.8539\n",
      "Epoch 97/100\n",
      "32/32 [==============================] - 0s 1ms/step - loss: 0.2758 - accuracy: 0.8855 - val_loss: 0.3033 - val_accuracy: 0.8539\n",
      "Epoch 98/100\n",
      "32/32 [==============================] - 0s 2ms/step - loss: 0.2746 - accuracy: 0.8865 - val_loss: 0.3026 - val_accuracy: 0.8539\n",
      "Epoch 99/100\n",
      "32/32 [==============================] - 0s 2ms/step - loss: 0.2743 - accuracy: 0.8865 - val_loss: 0.3020 - val_accuracy: 0.8539\n",
      "Epoch 100/100\n",
      "32/32 [==============================] - 0s 2ms/step - loss: 0.2735 - accuracy: 0.8855 - val_loss: 0.2997 - val_accuracy: 0.8539\n"
     ]
    }
   ],
   "source": [
    "hist = model.fit(X_train, Y_train,\n",
    "          batch_size=32, epochs=100,\n",
    "          validation_data=(X_val, Y_val))"
   ]
  },
  {
   "cell_type": "code",
   "execution_count": 35,
   "id": "b1ee7a9e",
   "metadata": {},
   "outputs": [
    {
     "name": "stdout",
     "output_type": "stream",
     "text": [
      "7/7 [==============================] - 0s 1ms/step - loss: 0.3395 - accuracy: 0.9087\n"
     ]
    },
    {
     "data": {
      "text/plain": [
       "0.9086757898330688"
      ]
     },
     "execution_count": 35,
     "metadata": {},
     "output_type": "execute_result"
    }
   ],
   "source": [
    "model.evaluate(X_test, Y_test)[1]"
   ]
  },
  {
   "cell_type": "code",
   "execution_count": 36,
   "id": "0d2d004d",
   "metadata": {},
   "outputs": [
    {
     "data": {
      "image/png": "[encoded data removed]",
      "text/plain": [
       "<Figure size 432x288 with 1 Axes>"
      ]
     },
     "metadata": {
      "needs_background": "light"
     },
     "output_type": "display_data"
    }
   ],
   "source": [
    "import matplotlib.pyplot as plt\n",
    "\n",
    "plt.plot(hist.history['loss'])\n",
    "plt.plot(hist.history['val_loss'])\n",
    "plt.title('Model loss')\n",
    "plt.ylabel('Loss')\n",
    "plt.xlabel('Epoch')\n",
    "plt.legend(['Train', 'Val'], loc='upper right')\n",
    "plt.show()"
   ]
  },
  {
   "cell_type": "code",
   "execution_count": 37,
   "id": "1c80a172",
   "metadata": {},
   "outputs": [
    {
     "data": {
      "image/png": "[encoded data removed]",
      "text/plain": [
       "<Figure size 432x288 with 1 Axes>"
      ]
     },
     "metadata": {
      "needs_background": "light"
     },
     "output_type": "display_data"
    }
   ],
   "source": [
    "plt.plot(hist.history['accuracy'])\n",
    "plt.plot(hist.history['val_accuracy'])\n",
    "plt.title('Model accuracy')\n",
    "plt.ylabel('Accuracy')\n",
    "plt.xlabel('Epoch')\n",
    "plt.legend(['Train', 'Val'], loc='lower right')\n",
    "plt.show()"
   ]
  },
  {
   "cell_type": "code",
   "execution_count": 38,
   "id": "76611726",
   "metadata": {},
   "outputs": [
    {
     "data": {
      "image/png": "[encoded data removed]",
      "text/plain": [
       "<Figure size 432x288 with 1 Axes>"
      ]
     },
     "metadata": {
      "needs_background": "light"
     },
     "output_type": "display_data"
    }
   ],
   "source": [
    "plt.plot(hist.history['accuracy'])\n",
    "plt.plot(hist.history['val_accuracy'])\n",
    "plt.title('Model accuracy')\n",
    "plt.ylabel('Accuracy')\n",
    "plt.xlabel('Epoch')\n",
    "plt.legend(['Train', 'Val'], loc='lower right')\n",
    "plt.show()"
   ]
  },
  {
   "cell_type": "code",
   "execution_count": 39,
   "id": "19bc0bd8",
   "metadata": {},
   "outputs": [
    {
     "data": {
      "image/png": "[encoded data removed]",
      "text/plain": [
       "<Figure size 432x288 with 1 Axes>"
      ]
     },
     "metadata": {
      "needs_background": "light"
     },
     "output_type": "display_data"
    }
   ],
   "source": [
    "plt.plot(hist.history['loss'])\n",
    "plt.plot(hist.history['val_loss'])\n",
    "plt.title('Model loss')\n",
    "plt.ylabel('Loss')\n",
    "plt.xlabel('Epoch')\n",
    "plt.legend(['Train', 'Val'], loc='upper right')\n",
    "plt.show()"
   ]
  },
  {
   "cell_type": "code",
   "execution_count": 40,
   "id": "be8e685b",
   "metadata": {},
   "outputs": [
    {
     "data": {
      "image/png": "[encoded data removed]",
      "text/plain": [
       "<Figure size 432x288 with 1 Axes>"
      ]
     },
     "metadata": {
      "needs_background": "light"
     },
     "output_type": "display_data"
    }
   ],
   "source": [
    "plt.plot(hist.history['accuracy'])\n",
    "plt.plot(hist.history['val_accuracy'])\n",
    "plt.title('Model accuracy')\n",
    "plt.ylabel('Accuracy')\n",
    "plt.xlabel('Epoch')\n",
    "plt.legend(['Train', 'Val'], loc='lower right')\n",
    "plt.show()"
   ]
  },
  {
   "cell_type": "code",
   "execution_count": 41,
   "id": "50b4272b",
   "metadata": {},
   "outputs": [],
   "source": [
    "from keras.layers import Dropout\n",
    "from keras import regularizers"
   ]
  },
  {
   "cell_type": "code",
   "execution_count": 42,
   "id": "c129ac4f",
   "metadata": {},
   "outputs": [],
   "source": [
    "model_3 = Sequential([\n",
    "    Dense(1000, activation='relu', kernel_regularizer=regularizers.l2(0.01), input_shape=(10,)),\n",
    "    Dropout(0.3),\n",
    "    Dense(1000, activation='relu', kernel_regularizer=regularizers.l2(0.01)),\n",
    "    Dropout(0.3),\n",
    "    Dense(1000, activation='relu', kernel_regularizer=regularizers.l2(0.01)),\n",
    "    Dropout(0.3),\n",
    "    Dense(1000, activation='relu', kernel_regularizer=regularizers.l2(0.01)),\n",
    "    Dropout(0.3),\n",
    "    Dense(1, activation='sigmoid', kernel_regularizer=regularizers.l2(0.01)),\n",
    "])"
   ]
  },
  {
   "cell_type": "code",
   "execution_count": 43,
   "id": "a29b11b0",
   "metadata": {},
   "outputs": [],
   "source": [
    "model_3.compile(optimizer='adam',\n",
    "              loss='binary_crossentropy',\n",
    "              metrics=['accuracy'])"
   ]
  },
  {
   "cell_type": "code",
   "execution_count": 44,
   "id": "93d276e8",
   "metadata": {},
   "outputs": [
    {
     "name": "stdout",
     "output_type": "stream",
     "text": [
      "Epoch 1/100\n",
      "32/32 [==============================] - 1s 28ms/step - loss: 14.2497 - accuracy: 0.6125 - val_loss: 3.9163 - val_accuracy: 0.7580\n",
      "Epoch 2/100\n",
      "32/32 [==============================] - 1s 24ms/step - loss: 1.6842 - accuracy: 0.8209 - val_loss: 0.6792 - val_accuracy: 0.8447\n",
      "Epoch 3/100\n",
      "32/32 [==============================] - 1s 25ms/step - loss: 0.5642 - accuracy: 0.8571 - val_loss: 0.5454 - val_accuracy: 0.8493\n",
      "Epoch 4/100\n",
      "32/32 [==============================] - 1s 24ms/step - loss: 0.5130 - accuracy: 0.8767 - val_loss: 0.5011 - val_accuracy: 0.8447\n",
      "Epoch 5/100\n",
      "32/32 [==============================] - 1s 25ms/step - loss: 0.4739 - accuracy: 0.8777 - val_loss: 0.4779 - val_accuracy: 0.8402\n",
      "Epoch 6/100\n",
      "32/32 [==============================] - 1s 25ms/step - loss: 0.4617 - accuracy: 0.8845 - val_loss: 0.4796 - val_accuracy: 0.8493\n",
      "Epoch 7/100\n",
      "32/32 [==============================] - 1s 25ms/step - loss: 0.4642 - accuracy: 0.8787 - val_loss: 0.5104 - val_accuracy: 0.8447\n",
      "Epoch 8/100\n",
      "32/32 [==============================] - 1s 25ms/step - loss: 0.4725 - accuracy: 0.8855 - val_loss: 0.4720 - val_accuracy: 0.8584\n",
      "Epoch 9/100\n",
      "32/32 [==============================] - 1s 25ms/step - loss: 0.4476 - accuracy: 0.8836 - val_loss: 0.4800 - val_accuracy: 0.8447\n",
      "Epoch 10/100\n",
      "32/32 [==============================] - 1s 25ms/step - loss: 0.4578 - accuracy: 0.8718 - val_loss: 0.4693 - val_accuracy: 0.8676\n",
      "Epoch 11/100\n",
      "32/32 [==============================] - 1s 27ms/step - loss: 0.4697 - accuracy: 0.8796 - val_loss: 0.4997 - val_accuracy: 0.8630\n",
      "Epoch 12/100\n",
      "32/32 [==============================] - 1s 28ms/step - loss: 0.4607 - accuracy: 0.8728 - val_loss: 0.5052 - val_accuracy: 0.8356\n",
      "Epoch 13/100\n",
      "32/32 [==============================] - 1s 28ms/step - loss: 0.4437 - accuracy: 0.8845 - val_loss: 0.5126 - val_accuracy: 0.8493\n",
      "Epoch 14/100\n",
      "32/32 [==============================] - 1s 25ms/step - loss: 0.4688 - accuracy: 0.8777 - val_loss: 0.4559 - val_accuracy: 0.8767\n",
      "Epoch 15/100\n",
      "32/32 [==============================] - 1s 25ms/step - loss: 0.4348 - accuracy: 0.8836 - val_loss: 0.4427 - val_accuracy: 0.8721\n",
      "Epoch 16/100\n",
      "32/32 [==============================] - 1s 25ms/step - loss: 0.4606 - accuracy: 0.8591 - val_loss: 0.4738 - val_accuracy: 0.8402\n",
      "Epoch 17/100\n",
      "32/32 [==============================] - 1s 25ms/step - loss: 0.4528 - accuracy: 0.8748 - val_loss: 0.4919 - val_accuracy: 0.8311\n",
      "Epoch 18/100\n",
      "32/32 [==============================] - 1s 25ms/step - loss: 0.4270 - accuracy: 0.8894 - val_loss: 0.4774 - val_accuracy: 0.8493\n",
      "Epoch 19/100\n",
      "32/32 [==============================] - 1s 26ms/step - loss: 0.4515 - accuracy: 0.8757 - val_loss: 0.4447 - val_accuracy: 0.8676\n",
      "Epoch 20/100\n",
      "32/32 [==============================] - 1s 28ms/step - loss: 0.4389 - accuracy: 0.8885 - val_loss: 0.4709 - val_accuracy: 0.8447\n",
      "Epoch 21/100\n",
      "32/32 [==============================] - 1s 26ms/step - loss: 0.4634 - accuracy: 0.8738 - val_loss: 0.5655 - val_accuracy: 0.8128\n",
      "Epoch 22/100\n",
      "32/32 [==============================] - 1s 25ms/step - loss: 0.4303 - accuracy: 0.8836 - val_loss: 0.4395 - val_accuracy: 0.8676\n",
      "Epoch 23/100\n",
      "32/32 [==============================] - 1s 25ms/step - loss: 0.4313 - accuracy: 0.8875 - val_loss: 0.4810 - val_accuracy: 0.8311\n",
      "Epoch 24/100\n",
      "32/32 [==============================] - 1s 25ms/step - loss: 0.4380 - accuracy: 0.8845 - val_loss: 0.5083 - val_accuracy: 0.8356\n",
      "Epoch 25/100\n",
      "32/32 [==============================] - 1s 25ms/step - loss: 0.4406 - accuracy: 0.8855 - val_loss: 0.4936 - val_accuracy: 0.8356\n",
      "Epoch 26/100\n",
      "32/32 [==============================] - 1s 25ms/step - loss: 0.4195 - accuracy: 0.8885 - val_loss: 0.5587 - val_accuracy: 0.8128\n",
      "Epoch 27/100\n",
      "32/32 [==============================] - 1s 25ms/step - loss: 0.4288 - accuracy: 0.8855 - val_loss: 0.4348 - val_accuracy: 0.8767\n",
      "Epoch 28/100\n",
      "32/32 [==============================] - 1s 27ms/step - loss: 0.4215 - accuracy: 0.8904 - val_loss: 0.5204 - val_accuracy: 0.8174\n",
      "Epoch 29/100\n",
      "32/32 [==============================] - 1s 28ms/step - loss: 0.4761 - accuracy: 0.8630 - val_loss: 0.4407 - val_accuracy: 0.8721\n",
      "Epoch 30/100\n",
      "32/32 [==============================] - 1s 26ms/step - loss: 0.4476 - accuracy: 0.8718 - val_loss: 0.4375 - val_accuracy: 0.8767\n",
      "Epoch 31/100\n",
      "32/32 [==============================] - 1s 25ms/step - loss: 0.4404 - accuracy: 0.8718 - val_loss: 0.4401 - val_accuracy: 0.8858\n",
      "Epoch 32/100\n",
      "32/32 [==============================] - 1s 25ms/step - loss: 0.4491 - accuracy: 0.8620 - val_loss: 0.4430 - val_accuracy: 0.8676\n",
      "Epoch 33/100\n",
      "32/32 [==============================] - 1s 25ms/step - loss: 0.4271 - accuracy: 0.8914 - val_loss: 0.4363 - val_accuracy: 0.8767\n",
      "Epoch 34/100\n",
      "32/32 [==============================] - 1s 25ms/step - loss: 0.4291 - accuracy: 0.8855 - val_loss: 0.4517 - val_accuracy: 0.8539\n",
      "Epoch 35/100\n",
      "32/32 [==============================] - 1s 25ms/step - loss: 0.4473 - accuracy: 0.8816 - val_loss: 0.4362 - val_accuracy: 0.8721\n",
      "Epoch 36/100\n",
      "32/32 [==============================] - 1s 25ms/step - loss: 0.4624 - accuracy: 0.8699 - val_loss: 0.4562 - val_accuracy: 0.8493\n",
      "Epoch 37/100\n",
      "32/32 [==============================] - 1s 26ms/step - loss: 0.4280 - accuracy: 0.8894 - val_loss: 0.4418 - val_accuracy: 0.8721\n",
      "Epoch 38/100\n",
      "32/32 [==============================] - 1s 33ms/step - loss: 0.4254 - accuracy: 0.8885 - val_loss: 0.4355 - val_accuracy: 0.8767\n",
      "Epoch 39/100\n",
      "32/32 [==============================] - 1s 31ms/step - loss: 0.4233 - accuracy: 0.8885 - val_loss: 0.4322 - val_accuracy: 0.8676\n",
      "Epoch 40/100\n",
      "32/32 [==============================] - 1s 31ms/step - loss: 0.4216 - accuracy: 0.8885 - val_loss: 0.4297 - val_accuracy: 0.8721\n",
      "Epoch 41/100\n",
      "32/32 [==============================] - 1s 28ms/step - loss: 0.4396 - accuracy: 0.8845 - val_loss: 0.4628 - val_accuracy: 0.8539\n",
      "Epoch 42/100\n",
      "32/32 [==============================] - 1s 31ms/step - loss: 0.4194 - accuracy: 0.8894 - val_loss: 0.4283 - val_accuracy: 0.8721\n",
      "Epoch 43/100\n",
      "32/32 [==============================] - 1s 28ms/step - loss: 0.4409 - accuracy: 0.8875 - val_loss: 0.4565 - val_accuracy: 0.8539\n",
      "Epoch 44/100\n",
      "32/32 [==============================] - 1s 32ms/step - loss: 0.4450 - accuracy: 0.8718 - val_loss: 0.4546 - val_accuracy: 0.8447\n",
      "Epoch 45/100\n",
      "32/32 [==============================] - 1s 29ms/step - loss: 0.4263 - accuracy: 0.8924 - val_loss: 0.4298 - val_accuracy: 0.8721\n",
      "Epoch 46/100\n",
      "32/32 [==============================] - 1s 26ms/step - loss: 0.4206 - accuracy: 0.8875 - val_loss: 0.5612 - val_accuracy: 0.8128\n",
      "Epoch 47/100\n",
      "32/32 [==============================] - 1s 26ms/step - loss: 0.4438 - accuracy: 0.8669 - val_loss: 0.4369 - val_accuracy: 0.8813\n",
      "Epoch 48/100\n",
      "32/32 [==============================] - 1s 25ms/step - loss: 0.4324 - accuracy: 0.8845 - val_loss: 0.4299 - val_accuracy: 0.8721\n",
      "Epoch 49/100\n",
      "32/32 [==============================] - 1s 26ms/step - loss: 0.4267 - accuracy: 0.8953 - val_loss: 0.4461 - val_accuracy: 0.8493\n",
      "Epoch 50/100\n",
      "32/32 [==============================] - 1s 25ms/step - loss: 0.4193 - accuracy: 0.8855 - val_loss: 0.4295 - val_accuracy: 0.8813\n",
      "Epoch 51/100\n",
      "32/32 [==============================] - 1s 26ms/step - loss: 0.4297 - accuracy: 0.8748 - val_loss: 0.4357 - val_accuracy: 0.8904\n",
      "Epoch 52/100\n",
      "32/32 [==============================] - 1s 26ms/step - loss: 0.4418 - accuracy: 0.8836 - val_loss: 0.4452 - val_accuracy: 0.8676\n",
      "Epoch 53/100\n",
      "32/32 [==============================] - 1s 25ms/step - loss: 0.4197 - accuracy: 0.8933 - val_loss: 0.4267 - val_accuracy: 0.8721\n",
      "Epoch 54/100\n",
      "32/32 [==============================] - 1s 26ms/step - loss: 0.4262 - accuracy: 0.8904 - val_loss: 0.4289 - val_accuracy: 0.8721\n",
      "Epoch 55/100\n",
      "32/32 [==============================] - 1s 26ms/step - loss: 0.4359 - accuracy: 0.8757 - val_loss: 0.4299 - val_accuracy: 0.8721\n",
      "Epoch 56/100\n",
      "32/32 [==============================] - 1s 26ms/step - loss: 0.4281 - accuracy: 0.8875 - val_loss: 0.4285 - val_accuracy: 0.8676\n",
      "Epoch 57/100\n",
      "32/32 [==============================] - 1s 26ms/step - loss: 0.4153 - accuracy: 0.8757 - val_loss: 0.4487 - val_accuracy: 0.8447\n",
      "Epoch 58/100\n",
      "32/32 [==============================] - 1s 24ms/step - loss: 0.4274 - accuracy: 0.8836 - val_loss: 0.4352 - val_accuracy: 0.8721\n",
      "Epoch 59/100\n",
      "32/32 [==============================] - 1s 24ms/step - loss: 0.4163 - accuracy: 0.8973 - val_loss: 0.4293 - val_accuracy: 0.8767\n",
      "Epoch 60/100\n",
      "32/32 [==============================] - 1s 24ms/step - loss: 0.4339 - accuracy: 0.8875 - val_loss: 0.4443 - val_accuracy: 0.8447\n",
      "Epoch 61/100\n",
      "32/32 [==============================] - 1s 24ms/step - loss: 0.4259 - accuracy: 0.8875 - val_loss: 0.4286 - val_accuracy: 0.8721\n",
      "Epoch 62/100\n",
      "32/32 [==============================] - 1s 24ms/step - loss: 0.4255 - accuracy: 0.8777 - val_loss: 0.5787 - val_accuracy: 0.8174\n",
      "Epoch 63/100\n",
      "32/32 [==============================] - 1s 24ms/step - loss: 0.4215 - accuracy: 0.8757 - val_loss: 0.4290 - val_accuracy: 0.8767\n",
      "Epoch 64/100\n",
      "32/32 [==============================] - 1s 24ms/step - loss: 0.4231 - accuracy: 0.8894 - val_loss: 0.4389 - val_accuracy: 0.8813\n",
      "Epoch 65/100\n",
      "32/32 [==============================] - 1s 25ms/step - loss: 0.4432 - accuracy: 0.8757 - val_loss: 0.4386 - val_accuracy: 0.8858\n",
      "Epoch 66/100\n",
      "32/32 [==============================] - 1s 24ms/step - loss: 0.4286 - accuracy: 0.8904 - val_loss: 0.4955 - val_accuracy: 0.8356\n",
      "Epoch 67/100\n",
      "32/32 [==============================] - 1s 24ms/step - loss: 0.4452 - accuracy: 0.8806 - val_loss: 0.4332 - val_accuracy: 0.8767\n",
      "Epoch 68/100\n",
      "32/32 [==============================] - 1s 24ms/step - loss: 0.4263 - accuracy: 0.8894 - val_loss: 0.4286 - val_accuracy: 0.8767\n",
      "Epoch 69/100\n",
      "32/32 [==============================] - 1s 24ms/step - loss: 0.4260 - accuracy: 0.8924 - val_loss: 0.4630 - val_accuracy: 0.8858\n",
      "Epoch 70/100\n",
      "32/32 [==============================] - 1s 24ms/step - loss: 0.4251 - accuracy: 0.8924 - val_loss: 0.4320 - val_accuracy: 0.8767\n",
      "Epoch 71/100\n",
      "32/32 [==============================] - 1s 24ms/step - loss: 0.4188 - accuracy: 0.8963 - val_loss: 0.4323 - val_accuracy: 0.8676\n",
      "Epoch 72/100\n",
      "32/32 [==============================] - 1s 24ms/step - loss: 0.4243 - accuracy: 0.8806 - val_loss: 0.4266 - val_accuracy: 0.8676\n",
      "Epoch 73/100\n",
      "32/32 [==============================] - 1s 24ms/step - loss: 0.4259 - accuracy: 0.8777 - val_loss: 0.4477 - val_accuracy: 0.8447\n",
      "Epoch 74/100\n",
      "32/32 [==============================] - 1s 24ms/step - loss: 0.4581 - accuracy: 0.8640 - val_loss: 0.4643 - val_accuracy: 0.8447\n",
      "Epoch 75/100\n",
      "32/32 [==============================] - 1s 24ms/step - loss: 0.4415 - accuracy: 0.8816 - val_loss: 0.4324 - val_accuracy: 0.8721\n",
      "Epoch 76/100\n",
      "32/32 [==============================] - 1s 24ms/step - loss: 0.4230 - accuracy: 0.8894 - val_loss: 0.4299 - val_accuracy: 0.8721\n",
      "Epoch 77/100\n",
      "32/32 [==============================] - 1s 24ms/step - loss: 0.4317 - accuracy: 0.8816 - val_loss: 0.4416 - val_accuracy: 0.8813\n",
      "Epoch 78/100\n",
      "32/32 [==============================] - 1s 24ms/step - loss: 0.4366 - accuracy: 0.8855 - val_loss: 0.4430 - val_accuracy: 0.8950\n",
      "Epoch 79/100\n",
      "32/32 [==============================] - 1s 24ms/step - loss: 0.4319 - accuracy: 0.8787 - val_loss: 0.4473 - val_accuracy: 0.8950\n",
      "Epoch 80/100\n",
      "32/32 [==============================] - 1s 24ms/step - loss: 0.4370 - accuracy: 0.8836 - val_loss: 0.4337 - val_accuracy: 0.8721\n",
      "Epoch 81/100\n",
      "32/32 [==============================] - 1s 25ms/step - loss: 0.4187 - accuracy: 0.8982 - val_loss: 0.4454 - val_accuracy: 0.8447\n",
      "Epoch 82/100\n",
      "32/32 [==============================] - 1s 30ms/step - loss: 0.4223 - accuracy: 0.8796 - val_loss: 0.4307 - val_accuracy: 0.8721\n",
      "Epoch 83/100\n",
      "32/32 [==============================] - 1s 31ms/step - loss: 0.4256 - accuracy: 0.8875 - val_loss: 0.4286 - val_accuracy: 0.8676\n",
      "Epoch 84/100\n",
      "32/32 [==============================] - 1s 29ms/step - loss: 0.4141 - accuracy: 0.8904 - val_loss: 0.4613 - val_accuracy: 0.8356\n",
      "Epoch 85/100\n",
      "32/32 [==============================] - 1s 27ms/step - loss: 0.4210 - accuracy: 0.8826 - val_loss: 0.4587 - val_accuracy: 0.8356\n",
      "Epoch 86/100\n",
      "32/32 [==============================] - 1s 27ms/step - loss: 0.4269 - accuracy: 0.8855 - val_loss: 0.4364 - val_accuracy: 0.8584\n",
      "Epoch 87/100\n",
      "32/32 [==============================] - 1s 30ms/step - loss: 0.4196 - accuracy: 0.8855 - val_loss: 0.4287 - val_accuracy: 0.8676\n",
      "Epoch 88/100\n",
      "32/32 [==============================] - 1s 31ms/step - loss: 0.4197 - accuracy: 0.8894 - val_loss: 0.4283 - val_accuracy: 0.8630\n",
      "Epoch 89/100\n",
      "32/32 [==============================] - 1s 34ms/step - loss: 0.4252 - accuracy: 0.8836 - val_loss: 0.4297 - val_accuracy: 0.8676\n",
      "Epoch 90/100\n",
      "32/32 [==============================] - 1s 30ms/step - loss: 0.4236 - accuracy: 0.8836 - val_loss: 0.4411 - val_accuracy: 0.8584\n",
      "Epoch 91/100\n",
      "32/32 [==============================] - 1s 29ms/step - loss: 0.4218 - accuracy: 0.8885 - val_loss: 0.4475 - val_accuracy: 0.8950\n",
      "Epoch 92/100\n",
      "32/32 [==============================] - 1s 29ms/step - loss: 0.4309 - accuracy: 0.8885 - val_loss: 0.4560 - val_accuracy: 0.8447\n",
      "Epoch 93/100\n",
      "32/32 [==============================] - 1s 27ms/step - loss: 0.4454 - accuracy: 0.8757 - val_loss: 0.4494 - val_accuracy: 0.8447\n",
      "Epoch 94/100\n",
      "32/32 [==============================] - 1s 30ms/step - loss: 0.4208 - accuracy: 0.8855 - val_loss: 0.4306 - val_accuracy: 0.8721\n",
      "Epoch 95/100\n",
      "32/32 [==============================] - 1s 29ms/step - loss: 0.4111 - accuracy: 0.8885 - val_loss: 0.4259 - val_accuracy: 0.8630\n",
      "Epoch 96/100\n",
      "32/32 [==============================] - 1s 31ms/step - loss: 0.4225 - accuracy: 0.8748 - val_loss: 0.4538 - val_accuracy: 0.8447\n",
      "Epoch 97/100\n",
      "32/32 [==============================] - 1s 28ms/step - loss: 0.4390 - accuracy: 0.8855 - val_loss: 0.4324 - val_accuracy: 0.8721\n",
      "Epoch 98/100\n",
      "32/32 [==============================] - 1s 28ms/step - loss: 0.4177 - accuracy: 0.8924 - val_loss: 0.4269 - val_accuracy: 0.8721\n",
      "Epoch 99/100\n",
      "32/32 [==============================] - 1s 27ms/step - loss: 0.4229 - accuracy: 0.8806 - val_loss: 0.4317 - val_accuracy: 0.8767\n",
      "Epoch 100/100\n",
      "32/32 [==============================] - 1s 28ms/step - loss: 0.4187 - accuracy: 0.8875 - val_loss: 0.4275 - val_accuracy: 0.8767\n"
     ]
    }
   ],
   "source": [
    "hist_3 = model_3.fit(X_train, Y_train,\n",
    "          batch_size=32, epochs=100,\n",
    "          validation_data=(X_val, Y_val))"
   ]
  },
  {
   "cell_type": "code",
   "execution_count": 45,
   "id": "3a79c060",
   "metadata": {},
   "outputs": [
    {
     "data": {
      "image/png": "[encoded data removed]",
      "text/plain": [
       "<Figure size 432x288 with 1 Axes>"
      ]
     },
     "metadata": {
      "needs_background": "light"
     },
     "output_type": "display_data"
    }
   ],
   "source": [
    "plt.plot(hist_3.history['loss'])\n",
    "plt.plot(hist_3.history['val_loss'])\n",
    "plt.title('Model loss')\n",
    "plt.ylabel('Loss')\n",
    "plt.xlabel('Epoch')\n",
    "plt.legend(['Train', 'Val'], loc='upper right')\n",
    "plt.ylim(top=1.2, bottom=0)\n",
    "plt.show()"
   ]
  },
  {
   "cell_type": "code",
   "execution_count": 46,
   "id": "b4d97a14",
   "metadata": {},
   "outputs": [
    {
     "data": {
      "image/png": "[encoded data removed]",
      "text/plain": [
       "<Figure size 432x288 with 1 Axes>"
      ]
     },
     "metadata": {
      "needs_background": "light"
     },
     "output_type": "display_data"
    }
   ],
   "source": [
    "plt.plot(hist_3.history['accuracy'])\n",
    "plt.plot(hist_3.history['val_accuracy'])\n",
    "plt.title('Model accuracy')\n",
    "plt.ylabel('Accuracy')\n",
    "plt.xlabel('Epoch')\n",
    "plt.legend(['Train', 'Val'], loc='lower right')\n",
    "plt.show()"
   ]
  },
  {
   "cell_type": "code",
   "execution_count": null,
   "id": "2d40202c",
   "metadata": {},
   "outputs": [],
   "source": []
  }
 ],
 "metadata": {
  "kernelspec": {
   "display_name": "Python 3 (ipykernel)",
   "language": "python",
   "name": "python3"
  },
  "language_info": {
   "codemirror_mode": {
    "name": "ipython",
    "version": 3
   },
   "file_extension": ".py",
   "mimetype": "text/x-python",
   "name": "python",
   "nbconvert_exporter": "python",
   "pygments_lexer": "ipython3",
   "version": "3.9.7"
  }
 },
 "nbformat": 4,
 "nbformat_minor": 5
}
