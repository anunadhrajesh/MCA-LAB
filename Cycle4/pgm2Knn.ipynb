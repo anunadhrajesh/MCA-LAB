{
 "cells": [
  {
   "cell_type": "code",
   "execution_count": null,
   "id": "a40c09df",
   "metadata": {},
   "outputs": [],
   "source": [
    "#2. Download another data set suitable for the KNN and implement the KNN algorithm. Take different\n",
    "#values for Test and training data set .Also use different values for k."
   ]
  },
  {
   "cell_type": "code",
   "execution_count": 44,
   "id": "7cc82955",
   "metadata": {},
   "outputs": [],
   "source": [
    "import numpy as np\n",
    "import matplotlib.pyplot as plt\n",
    "import pandas as pd\n",
    "\n",
    "dataset = pd.read_csv(\"cancer.csv\")\n",
    "# print(dataset)\n",
    "# dataset.info()\n",
    "# dataset.head()\n",
    "\n",
    "x = dataset.iloc[:, 2:35].values\n",
    "y = dataset.iloc[:,1].values\n",
    "\n",
    "# print(x)\n",
    "# print(y)"
   ]
  },
  {
   "cell_type": "code",
   "execution_count": 45,
   "id": "2bb54a96",
   "metadata": {},
   "outputs": [],
   "source": [
    "from sklearn.model_selection import train_test_split\n",
    "x_train, x_test, y_train, y_test = train_test_split(x, y, test_size=0.20)"
   ]
  },
  {
   "cell_type": "code",
   "execution_count": 46,
   "id": "27f66db0",
   "metadata": {},
   "outputs": [],
   "source": [
    "from sklearn.neighbors import KNeighborsClassifier\n",
    "classifier = KNeighborsClassifier(n_neighbors=5)\n",
    "classifier.fit(x_train, y_train)\n",
    "y_pred = classifier.predict(x_test)"
   ]
  },
  {
   "cell_type": "code",
   "execution_count": 47,
   "id": "b400a356",
   "metadata": {},
   "outputs": [
    {
     "name": "stdout",
     "output_type": "stream",
     "text": [
      "              precision    recall  f1-score   support\n",
      "\n",
      "           N       0.87      0.97      0.92        34\n",
      "           R       0.50      0.17      0.25         6\n",
      "\n",
      "    accuracy                           0.85        40\n",
      "   macro avg       0.68      0.57      0.58        40\n",
      "weighted avg       0.81      0.85      0.82        40\n",
      "\n"
     ]
    }
   ],
   "source": [
    "from sklearn.metrics import classification_report, confusion_matrix\n",
    "print(classification_report(y_test, y_pred))"
   ]
  },
  {
   "cell_type": "code",
   "execution_count": 48,
   "id": "22ff3350",
   "metadata": {},
   "outputs": [
    {
     "name": "stdout",
     "output_type": "stream",
     "text": [
      "Accuracy :  0.85\n"
     ]
    }
   ],
   "source": [
    "from sklearn.metrics import accuracy_score\n",
    "print (\"Accuracy : \", accuracy_score(y_test, y_pred))\n",
    "df = pd.DataFrame({'Real Values':y_test, 'Predicted Values':y_pred})"
   ]
  },
  {
   "cell_type": "code",
   "execution_count": null,
   "id": "afe98cbf",
   "metadata": {},
   "outputs": [],
   "source": []
  }
 ],
 "metadata": {
  "kernelspec": {
   "display_name": "Python 3 (ipykernel)",
   "language": "python",
   "name": "python3"
  },
  "language_info": {
   "codemirror_mode": {
    "name": "ipython",
    "version": 3
   },
   "file_extension": ".py",
   "mimetype": "text/x-python",
   "name": "python",
   "nbconvert_exporter": "python",
   "pygments_lexer": "ipython3",
   "version": "3.9.7"
  }
 },
 "nbformat": 4,
 "nbformat_minor": 5
}
