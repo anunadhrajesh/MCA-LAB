{
 "cells": [
  {
   "cell_type": "code",
   "execution_count": null,
   "id": "d1173c56",
   "metadata": {},
   "outputs": [],
   "source": [
    "# 4.Implement Simple and multiple linear regression for the data sets ‘student_score.csv’ \n",
    "# and ‘company_data .csv’ respectively."
   ]
  },
  {
   "cell_type": "code",
   "execution_count": 2,
   "id": "ad56eab2",
   "metadata": {},
   "outputs": [
    {
     "data": {
      "text/html": [
       "<div>\n",
       "<style scoped>\n",
       "    .dataframe tbody tr th:only-of-type {\n",
       "        vertical-align: middle;\n",
       "    }\n",
       "\n",
       "    .dataframe tbody tr th {\n",
       "        vertical-align: top;\n",
       "    }\n",
       "\n",
       "    .dataframe thead th {\n",
       "        text-align: right;\n",
       "    }\n",
       "</style>\n",
       "<table border=\"1\" class=\"dataframe\">\n",
       "  <thead>\n",
       "    <tr style=\"text-align: right;\">\n",
       "      <th></th>\n",
       "      <th>Hours</th>\n",
       "      <th>Scores</th>\n",
       "    </tr>\n",
       "  </thead>\n",
       "  <tbody>\n",
       "    <tr>\n",
       "      <th>0</th>\n",
       "      <td>2.5</td>\n",
       "      <td>21</td>\n",
       "    </tr>\n",
       "    <tr>\n",
       "      <th>1</th>\n",
       "      <td>5.1</td>\n",
       "      <td>47</td>\n",
       "    </tr>\n",
       "    <tr>\n",
       "      <th>2</th>\n",
       "      <td>3.2</td>\n",
       "      <td>27</td>\n",
       "    </tr>\n",
       "    <tr>\n",
       "      <th>3</th>\n",
       "      <td>8.5</td>\n",
       "      <td>75</td>\n",
       "    </tr>\n",
       "    <tr>\n",
       "      <th>4</th>\n",
       "      <td>3.5</td>\n",
       "      <td>30</td>\n",
       "    </tr>\n",
       "  </tbody>\n",
       "</table>\n",
       "</div>"
      ],
      "text/plain": [
       "   Hours  Scores\n",
       "0    2.5      21\n",
       "1    5.1      47\n",
       "2    3.2      27\n",
       "3    8.5      75\n",
       "4    3.5      30"
      ]
     },
     "execution_count": 2,
     "metadata": {},
     "output_type": "execute_result"
    }
   ],
   "source": [
    "import numpy as np\n",
    "import pandas as pd\n",
    "import matplotlib.pyplot as plt\n",
    "\n",
    "#data set contains details of no.of hours spend by students for studt and their marks\n",
    "student = pd.read_csv('student_scores.csv')\n",
    "student.head()"
   ]
  },
  {
   "cell_type": "code",
   "execution_count": 3,
   "id": "8a17396a",
   "metadata": {},
   "outputs": [
    {
     "data": {
      "text/html": [
       "<div>\n",
       "<style scoped>\n",
       "    .dataframe tbody tr th:only-of-type {\n",
       "        vertical-align: middle;\n",
       "    }\n",
       "\n",
       "    .dataframe tbody tr th {\n",
       "        vertical-align: top;\n",
       "    }\n",
       "\n",
       "    .dataframe thead th {\n",
       "        text-align: right;\n",
       "    }\n",
       "</style>\n",
       "<table border=\"1\" class=\"dataframe\">\n",
       "  <thead>\n",
       "    <tr style=\"text-align: right;\">\n",
       "      <th></th>\n",
       "      <th>Hours</th>\n",
       "      <th>Scores</th>\n",
       "    </tr>\n",
       "  </thead>\n",
       "  <tbody>\n",
       "    <tr>\n",
       "      <th>count</th>\n",
       "      <td>25.000000</td>\n",
       "      <td>25.000000</td>\n",
       "    </tr>\n",
       "    <tr>\n",
       "      <th>mean</th>\n",
       "      <td>5.012000</td>\n",
       "      <td>51.480000</td>\n",
       "    </tr>\n",
       "    <tr>\n",
       "      <th>std</th>\n",
       "      <td>2.525094</td>\n",
       "      <td>25.286887</td>\n",
       "    </tr>\n",
       "    <tr>\n",
       "      <th>min</th>\n",
       "      <td>1.100000</td>\n",
       "      <td>17.000000</td>\n",
       "    </tr>\n",
       "    <tr>\n",
       "      <th>25%</th>\n",
       "      <td>2.700000</td>\n",
       "      <td>30.000000</td>\n",
       "    </tr>\n",
       "    <tr>\n",
       "      <th>50%</th>\n",
       "      <td>4.800000</td>\n",
       "      <td>47.000000</td>\n",
       "    </tr>\n",
       "    <tr>\n",
       "      <th>75%</th>\n",
       "      <td>7.400000</td>\n",
       "      <td>75.000000</td>\n",
       "    </tr>\n",
       "    <tr>\n",
       "      <th>max</th>\n",
       "      <td>9.200000</td>\n",
       "      <td>95.000000</td>\n",
       "    </tr>\n",
       "  </tbody>\n",
       "</table>\n",
       "</div>"
      ],
      "text/plain": [
       "           Hours     Scores\n",
       "count  25.000000  25.000000\n",
       "mean    5.012000  51.480000\n",
       "std     2.525094  25.286887\n",
       "min     1.100000  17.000000\n",
       "25%     2.700000  30.000000\n",
       "50%     4.800000  47.000000\n",
       "75%     7.400000  75.000000\n",
       "max     9.200000  95.000000"
      ]
     },
     "execution_count": 3,
     "metadata": {},
     "output_type": "execute_result"
    }
   ],
   "source": [
    "student.describe()"
   ]
  },
  {
   "cell_type": "code",
   "execution_count": 4,
   "id": "f42d9af5",
   "metadata": {},
   "outputs": [
    {
     "name": "stdout",
     "output_type": "stream",
     "text": [
      "<class 'pandas.core.frame.DataFrame'>\n",
      "RangeIndex: 25 entries, 0 to 24\n",
      "Data columns (total 2 columns):\n",
      " #   Column  Non-Null Count  Dtype  \n",
      "---  ------  --------------  -----  \n",
      " 0   Hours   25 non-null     float64\n",
      " 1   Scores  25 non-null     int64  \n",
      "dtypes: float64(1), int64(1)\n",
      "memory usage: 528.0 bytes\n"
     ]
    }
   ],
   "source": [
    "student.info()"
   ]
  },
  {
   "cell_type": "code",
   "execution_count": 5,
   "id": "7f08183f",
   "metadata": {},
   "outputs": [
    {
     "data": {
      "image/png": "[encoded data removed]",
      "text/plain": [
       "<Figure size 432x288 with 1 Axes>"
      ]
     },
     "metadata": {
      "needs_background": "light"
     },
     "output_type": "display_data"
    }
   ],
   "source": [
    "import matplotlib.pyplot as plt\n",
    "\n",
    "Xax=student.iloc[:,0]\n",
    "Yax=student.iloc[:,1]\n",
    "plt.scatter(Xax,Yax)\n",
    "plt.xlabel(\"No.of hours\")\n",
    "plt.ylabel(\"Score\")\n",
    "plt.title(\"Student scores\")\n",
    "plt.show()"
   ]
  },
  {
   "cell_type": "code",
   "execution_count": 6,
   "id": "a992b774",
   "metadata": {},
   "outputs": [
    {
     "name": "stdout",
     "output_type": "stream",
     "text": [
      "    Hours\n",
      "0     2.5\n",
      "1     5.1\n",
      "2     3.2\n",
      "3     8.5\n",
      "4     3.5\n",
      "5     1.5\n",
      "6     9.2\n",
      "7     5.5\n",
      "8     8.3\n",
      "9     2.7\n",
      "10    7.7\n",
      "11    5.9\n",
      "12    4.5\n",
      "13    3.3\n",
      "14    1.1\n",
      "15    8.9\n",
      "16    2.5\n",
      "17    1.9\n",
      "18    6.1\n",
      "19    7.4\n",
      "20    2.7\n",
      "21    4.8\n",
      "22    3.8\n",
      "23    6.9\n",
      "24    7.8\n"
     ]
    }
   ],
   "source": [
    "#Perform the simple linear regression model\n",
    "#Equation: Y=w0+w1.x\n",
    "#Here Y(marks)=w0+w1.x\n",
    "#Create x as hours and Y as marks\n",
    "\n",
    "X = student.iloc[:, :-1]\n",
    "y = student.iloc[:, 1]\n",
    "print(X)"
   ]
  },
  {
   "cell_type": "code",
   "execution_count": 7,
   "id": "b833999c",
   "metadata": {},
   "outputs": [
    {
     "name": "stdout",
     "output_type": "stream",
     "text": [
      "0     21\n",
      "1     47\n",
      "2     27\n",
      "3     75\n",
      "4     30\n",
      "5     20\n",
      "6     88\n",
      "7     60\n",
      "8     81\n",
      "9     25\n",
      "10    85\n",
      "11    62\n",
      "12    41\n",
      "13    42\n",
      "14    17\n",
      "15    95\n",
      "16    30\n",
      "17    24\n",
      "18    67\n",
      "19    69\n",
      "20    30\n",
      "21    54\n",
      "22    35\n",
      "23    76\n",
      "24    86\n",
      "Name: Scores, dtype: int64\n"
     ]
    }
   ],
   "source": [
    "print(y)"
   ]
  },
  {
   "cell_type": "code",
   "execution_count": 8,
   "id": "c270b621",
   "metadata": {},
   "outputs": [
    {
     "name": "stdout",
     "output_type": "stream",
     "text": [
      "    Hours\n",
      "13    3.3\n",
      "11    5.9\n",
      "18    6.1\n",
      "22    3.8\n",
      "8     8.3\n",
      "16    2.5\n",
      "24    7.8\n",
      "3     8.5\n",
      "12    4.5\n",
      "14    1.1\n",
      "0     2.5\n",
      "10    7.7\n",
      "15    8.9\n",
      "4     3.5\n",
      "7     5.5\n",
      "5     1.5\n",
      "2     3.2\n",
      "19    7.4\n",
      "17    1.9\n",
      "23    6.9\n"
     ]
    }
   ],
   "source": [
    "from sklearn.model_selection import train_test_split\n",
    "X_train, X_test, y_train, y_test = train_test_split(X, y, test_size=0.2)\n",
    "print(X_train)"
   ]
  },
  {
   "cell_type": "code",
   "execution_count": 9,
   "id": "cec6a335",
   "metadata": {},
   "outputs": [
    {
     "name": "stdout",
     "output_type": "stream",
     "text": [
      "2.339955743698276\n"
     ]
    }
   ],
   "source": [
    "from sklearn.linear_model import LinearRegression\n",
    "regressor = LinearRegression()\n",
    "regressor.fit(X_train, y_train)\n",
    "print(regressor.intercept_)"
   ]
  },
  {
   "cell_type": "code",
   "execution_count": 10,
   "id": "450714a8",
   "metadata": {},
   "outputs": [
    {
     "name": "stdout",
     "output_type": "stream",
     "text": [
      "[9.88294529]\n"
     ]
    }
   ],
   "source": [
    "print(regressor.coef_)"
   ]
  },
  {
   "cell_type": "code",
   "execution_count": 11,
   "id": "04d7feca",
   "metadata": {},
   "outputs": [
    {
     "name": "stdout",
     "output_type": "stream",
     "text": [
      "Actual value : 47 Predicted value : 52.74297671733691\n",
      "Actual value : 88 Predicted value : 93.2630524020268\n",
      "Actual value : 54 Predicted value : 49.77809313065229\n",
      "Actual value : 30 Predicted value : 29.02390802385991\n",
      "Actual value : 25 Predicted value : 29.02390802385991\n",
      "Number of mislabeled points from test data set : 5\n"
     ]
    }
   ],
   "source": [
    "y_pred = regressor.predict(X_test)\n",
    "for(i,j) in zip(y_test,y_pred):\n",
    "    if i!=j:\n",
    "        print(\"Actual value :\",i,\"Predicted value :\",j)\n",
    "print(\"Number of mislabeled points from test data set :\", (y_test != y_pred).sum())"
   ]
  },
  {
   "cell_type": "code",
   "execution_count": 12,
   "id": "f5688526",
   "metadata": {},
   "outputs": [
    {
     "name": "stdout",
     "output_type": "stream",
     "text": [
      "Mean Absolute error : 4.045587197742284\n",
      "Mean Squared error : 19.130118221233708\n",
      "Root Mean Squared error : 4.373799060454619\n"
     ]
    }
   ],
   "source": [
    "from sklearn import metrics\n",
    "print(\"Mean Absolute error :\", metrics.mean_absolute_error(y_test,y_pred))\n",
    "print(\"Mean Squared error :\", metrics.mean_squared_error(y_test,y_pred))\n",
    "print(\"Root Mean Squared error :\", np.sqrt(metrics.mean_squared_error(y_test,y_pred)))"
   ]
  },
  {
   "cell_type": "code",
   "execution_count": 13,
   "id": "8db6ea19",
   "metadata": {},
   "outputs": [
    {
     "name": "stdout",
     "output_type": "stream",
     "text": [
      "[0 1 2 3 4]\n"
     ]
    },
    {
     "data": {
      "image/png": "[encoded data removed]",
      "text/plain": [
       "<Figure size 432x288 with 1 Axes>"
      ]
     },
     "metadata": {
      "needs_background": "light"
     },
     "output_type": "display_data"
    }
   ],
   "source": [
    "import matplotlib.pyplot as plt\n",
    "c=X_test['Hours'].count()\n",
    "xax=np.arange(c)\n",
    "print(xax)\n",
    "X_axis = np.arange(len(xax))\n",
    "plt.bar(X_axis-0.2, y_test, 0.6, label='Actual')\n",
    "plt.bar(X_axis+0.2, y_pred, 0.6, label='Predicted')\n",
    "\n",
    "plt.xlabel(\"Test Records\")\n",
    "plt.ylabel(\"Marks\")\n",
    "plt.title(\"Student Score prediction\")\n",
    "plt.legend()\n",
    "plt.show()"
   ]
  },
  {
   "cell_type": "code",
   "execution_count": null,
   "id": "cf859636",
   "metadata": {},
   "outputs": [],
   "source": []
  },
  {
   "cell_type": "code",
   "execution_count": null,
   "id": "9fa3ac89",
   "metadata": {},
   "outputs": [],
   "source": [
    "#multiple linear regression for the data sets ‘student_score.csv’ and ‘company_data .csv’ respectively "
   ]
  },
  {
   "cell_type": "code",
   "execution_count": 14,
   "id": "436029cb",
   "metadata": {},
   "outputs": [
    {
     "data": {
      "text/html": [
       "<div>\n",
       "<style scoped>\n",
       "    .dataframe tbody tr th:only-of-type {\n",
       "        vertical-align: middle;\n",
       "    }\n",
       "\n",
       "    .dataframe tbody tr th {\n",
       "        vertical-align: top;\n",
       "    }\n",
       "\n",
       "    .dataframe thead th {\n",
       "        text-align: right;\n",
       "    }\n",
       "</style>\n",
       "<table border=\"1\" class=\"dataframe\">\n",
       "  <thead>\n",
       "    <tr style=\"text-align: right;\">\n",
       "      <th></th>\n",
       "      <th>TV</th>\n",
       "      <th>Radio</th>\n",
       "      <th>Newspaper</th>\n",
       "      <th>Sales</th>\n",
       "    </tr>\n",
       "  </thead>\n",
       "  <tbody>\n",
       "    <tr>\n",
       "      <th>count</th>\n",
       "      <td>200.000000</td>\n",
       "      <td>200.000000</td>\n",
       "      <td>200.000000</td>\n",
       "      <td>200.000000</td>\n",
       "    </tr>\n",
       "    <tr>\n",
       "      <th>mean</th>\n",
       "      <td>147.042500</td>\n",
       "      <td>23.264000</td>\n",
       "      <td>30.554000</td>\n",
       "      <td>15.130500</td>\n",
       "    </tr>\n",
       "    <tr>\n",
       "      <th>std</th>\n",
       "      <td>85.854236</td>\n",
       "      <td>14.846809</td>\n",
       "      <td>21.778621</td>\n",
       "      <td>5.283892</td>\n",
       "    </tr>\n",
       "    <tr>\n",
       "      <th>min</th>\n",
       "      <td>0.700000</td>\n",
       "      <td>0.000000</td>\n",
       "      <td>0.300000</td>\n",
       "      <td>1.600000</td>\n",
       "    </tr>\n",
       "    <tr>\n",
       "      <th>25%</th>\n",
       "      <td>74.375000</td>\n",
       "      <td>9.975000</td>\n",
       "      <td>12.750000</td>\n",
       "      <td>11.000000</td>\n",
       "    </tr>\n",
       "    <tr>\n",
       "      <th>50%</th>\n",
       "      <td>149.750000</td>\n",
       "      <td>22.900000</td>\n",
       "      <td>25.750000</td>\n",
       "      <td>16.000000</td>\n",
       "    </tr>\n",
       "    <tr>\n",
       "      <th>75%</th>\n",
       "      <td>218.825000</td>\n",
       "      <td>36.525000</td>\n",
       "      <td>45.100000</td>\n",
       "      <td>19.050000</td>\n",
       "    </tr>\n",
       "    <tr>\n",
       "      <th>max</th>\n",
       "      <td>296.400000</td>\n",
       "      <td>49.600000</td>\n",
       "      <td>114.000000</td>\n",
       "      <td>27.000000</td>\n",
       "    </tr>\n",
       "  </tbody>\n",
       "</table>\n",
       "</div>"
      ],
      "text/plain": [
       "               TV       Radio   Newspaper       Sales\n",
       "count  200.000000  200.000000  200.000000  200.000000\n",
       "mean   147.042500   23.264000   30.554000   15.130500\n",
       "std     85.854236   14.846809   21.778621    5.283892\n",
       "min      0.700000    0.000000    0.300000    1.600000\n",
       "25%     74.375000    9.975000   12.750000   11.000000\n",
       "50%    149.750000   22.900000   25.750000   16.000000\n",
       "75%    218.825000   36.525000   45.100000   19.050000\n",
       "max    296.400000   49.600000  114.000000   27.000000"
      ]
     },
     "execution_count": 14,
     "metadata": {},
     "output_type": "execute_result"
    }
   ],
   "source": [
    "import pandas as pd\n",
    "import numpy as np\n",
    "import matplotlib.pyplot as plt\n",
    "advertising = pd.read_csv('Company_data.csv')\n",
    "advertising.head()\n",
    "advertising.describe()"
   ]
  },
  {
   "cell_type": "code",
   "execution_count": 15,
   "id": "5c7146d8",
   "metadata": {},
   "outputs": [
    {
     "name": "stdout",
     "output_type": "stream",
     "text": [
      "<class 'pandas.core.frame.DataFrame'>\n",
      "RangeIndex: 200 entries, 0 to 199\n",
      "Data columns (total 4 columns):\n",
      " #   Column     Non-Null Count  Dtype  \n",
      "---  ------     --------------  -----  \n",
      " 0   TV         200 non-null    float64\n",
      " 1   Radio      200 non-null    float64\n",
      " 2   Newspaper  200 non-null    float64\n",
      " 3   Sales      200 non-null    float64\n",
      "dtypes: float64(4)\n",
      "memory usage: 6.4 KB\n"
     ]
    }
   ],
   "source": [
    "advertising.info()"
   ]
  },
  {
   "cell_type": "code",
   "execution_count": 16,
   "id": "a8bdd63e",
   "metadata": {},
   "outputs": [
    {
     "data": {
      "image/png": "[encoded data removed]",
      "text/plain": [
       "<Figure size 1080x360 with 3 Axes>"
      ]
     },
     "metadata": {
      "needs_background": "light"
     },
     "output_type": "display_data"
    }
   ],
   "source": [
    "import matplotlib.pyplot as plt\n",
    "import seaborn as sns\n",
    "sns.pairplot(advertising, x_vars=['TV', 'Radio', 'Newspaper'],\n",
    "            y_vars='Sales', height=5, aspect=1, kind='scatter')\n",
    "plt.show()"
   ]
  },
  {
   "cell_type": "code",
   "execution_count": 17,
   "id": "fe313f7b",
   "metadata": {},
   "outputs": [
    {
     "name": "stdout",
     "output_type": "stream",
     "text": [
      "        TV  Radio  Newspaper\n",
      "0    230.1   37.8       69.2\n",
      "1     44.5   39.3       45.1\n",
      "2     17.2   45.9       69.3\n",
      "3    151.5   41.3       58.5\n",
      "4    180.8   10.8       58.4\n",
      "..     ...    ...        ...\n",
      "195   38.2    3.7       13.8\n",
      "196   94.2    4.9        8.1\n",
      "197  177.0    9.3        6.4\n",
      "198  283.6   42.0       66.2\n",
      "199  232.1    8.6        8.7\n",
      "\n",
      "[200 rows x 3 columns]\n",
      "0      22.1\n",
      "1      10.4\n",
      "2      12.0\n",
      "3      16.5\n",
      "4      17.9\n",
      "       ... \n",
      "195     7.6\n",
      "196    14.0\n",
      "197    14.8\n",
      "198    25.5\n",
      "199    18.4\n",
      "Name: Sales, Length: 200, dtype: float64\n"
     ]
    }
   ],
   "source": [
    "#perform the multiple linear regression model\n",
    "#Equation : Y=w0+w1.x1 + w2.x2 + w3.x3\n",
    "#Here Y(sales)=w0+w1.x1(TV)+w2.x2(Radio)+w3.x3(Newspaper)\n",
    "#create x and Y as sales\n",
    "\n",
    "X = advertising.iloc[:, :-1]\n",
    "print(X)\n",
    "y = advertising.iloc[:, -1]\n",
    "print(y)"
   ]
  },
  {
   "cell_type": "code",
   "execution_count": 18,
   "id": "d706d126",
   "metadata": {},
   "outputs": [
    {
     "name": "stdout",
     "output_type": "stream",
     "text": [
      "        TV  Radio  Newspaper\n",
      "20   218.4   27.7       53.4\n",
      "120  141.3   26.8       46.2\n",
      "40   202.5   22.3       31.6\n",
      "196   94.2    4.9        8.1\n",
      "56     7.3   28.1       41.4\n",
      "..     ...    ...        ...\n",
      "133  219.8   33.5       45.1\n",
      "160  172.5   18.1       30.7\n",
      "173  168.4    7.1       12.8\n",
      "16    67.8   36.6      114.0\n",
      "169  284.3   10.6        6.4\n",
      "\n",
      "[140 rows x 3 columns]\n"
     ]
    }
   ],
   "source": [
    "from sklearn.model_selection import train_test_split\n",
    "X_train, X_test, y_train, y_test = train_test_split(X, y, test_size=0.3)\n",
    "print(X_train)"
   ]
  },
  {
   "cell_type": "code",
   "execution_count": 19,
   "id": "93520874",
   "metadata": {},
   "outputs": [
    {
     "name": "stdout",
     "output_type": "stream",
     "text": [
      "4.517653192410242\n"
     ]
    }
   ],
   "source": [
    "from sklearn.linear_model import LinearRegression\n",
    "regressor = LinearRegression()\n",
    "regressor.fit(X_train, y_train)\n",
    "print(regressor.intercept_)"
   ]
  },
  {
   "cell_type": "code",
   "execution_count": 20,
   "id": "135568c7",
   "metadata": {},
   "outputs": [
    {
     "name": "stdout",
     "output_type": "stream",
     "text": [
      "[0.05481072 0.10931208 0.00083848]\n"
     ]
    }
   ],
   "source": [
    "print(regressor.coef_)"
   ]
  },
  {
   "cell_type": "code",
   "execution_count": 21,
   "id": "93c76f83",
   "metadata": {},
   "outputs": [
    {
     "name": "stdout",
     "output_type": "stream",
     "text": [
      "Actual value : 17.2 Predicted value : 16.524862375392814\n",
      "Actual value : 11.6 Predicted value : 12.108805558115433\n",
      "Actual value : 11.8 Predicted value : 11.642522763122734\n",
      "Actual value : 14.6 Predicted value : 13.948584462230732\n",
      "Actual value : 10.1 Predicted value : 9.828058525311706\n",
      "Actual value : 11.5 Predicted value : 11.943832762325378\n",
      "Actual value : 11.0 Predicted value : 11.736768305205409\n",
      "Actual value : 18.0 Predicted value : 17.508094757762052\n",
      "Actual value : 18.4 Predicted value : 19.298775461516648\n",
      "Actual value : 7.2 Predicted value : 7.115257022780462\n",
      "Actual value : 11.0 Predicted value : 12.259483307989619\n",
      "Actual value : 7.0 Predicted value : 7.962426522785122\n",
      "Actual value : 10.3 Predicted value : 12.415607157614868\n",
      "Actual value : 10.4 Predicted value : 10.902776853042933\n",
      "Actual value : 11.9 Predicted value : 8.921186681154904\n",
      "Actual value : 19.2 Predicted value : 19.067526135287707\n",
      "Actual value : 20.7 Predicted value : 23.63953343392412\n",
      "Actual value : 7.2 Predicted value : 10.402753712190254\n",
      "Actual value : 21.5 Predicted value : 21.162393547885685\n",
      "Actual value : 12.6 Predicted value : 12.504049073088506\n",
      "Actual value : 25.5 Predicted value : 24.708587506836956\n",
      "Actual value : 20.2 Predicted value : 22.07794823774929\n",
      "Actual value : 16.7 Predicted value : 14.728585991185668\n",
      "Actual value : 12.0 Predicted value : 9.524788398906132\n",
      "Actual value : 16.0 Predicted value : 16.406127488867515\n",
      "Actual value : 4.8 Predicted value : 5.21941921240961\n",
      "Actual value : 22.6 Predicted value : 20.97021006412782\n",
      "Actual value : 18.4 Predicted value : 18.186599132369807\n",
      "Actual value : 8.7 Predicted value : 8.245997316924843\n",
      "Actual value : 17.3 Predicted value : 18.144498275081485\n",
      "Actual value : 20.2 Predicted value : 17.17351434365396\n",
      "Actual value : 22.6 Predicted value : 20.700259289559774\n",
      "Actual value : 13.7 Predicted value : 10.698506939734221\n",
      "Actual value : 18.9 Predicted value : 20.54502283593198\n",
      "Actual value : 17.0 Predicted value : 18.914321424464866\n",
      "Actual value : 10.1 Predicted value : 12.890779350256159\n",
      "Actual value : 19.0 Predicted value : 19.339458218260525\n",
      "Actual value : 22.1 Predicted value : 21.319618898585112\n",
      "Actual value : 16.4 Predicted value : 15.836713299275194\n",
      "Actual value : 19.7 Predicted value : 16.711763468835784\n",
      "Actual value : 9.4 Predicted value : 8.805051143064327\n",
      "Actual value : 8.0 Predicted value : 9.627010653301253\n",
      "Actual value : 11.8 Predicted value : 11.274410125777912\n",
      "Actual value : 12.4 Predicted value : 12.12561259221922\n",
      "Actual value : 8.5 Predicted value : 8.739029128269994\n",
      "Actual value : 23.8 Predicted value : 24.8161812181407\n",
      "Actual value : 8.7 Predicted value : 10.295852928169637\n",
      "Actual value : 5.9 Predicted value : 5.935073177238049\n",
      "Actual value : 13.4 Predicted value : 13.746363707186768\n",
      "Actual value : 20.9 Predicted value : 21.716058349953833\n",
      "Actual value : 10.6 Predicted value : 10.608746986178701\n",
      "Actual value : 25.4 Predicted value : 25.06314922644922\n",
      "Actual value : 8.1 Predicted value : 7.686594246952233\n",
      "Actual value : 19.9 Predicted value : 16.844006036516\n",
      "Actual value : 16.1 Predicted value : 21.453483102279222\n",
      "Actual value : 10.7 Predicted value : 11.073063639217583\n",
      "Actual value : 21.7 Predicted value : 20.948501484690127\n",
      "Actual value : 9.5 Predicted value : 10.191776720576213\n",
      "Actual value : 11.3 Predicted value : 10.56679674526648\n",
      "Actual value : 10.9 Predicted value : 10.409881639162657\n",
      "Number of mislabeled points from test data set : 60\n"
     ]
    }
   ],
   "source": [
    "y_pred = regressor.predict(X_test)\n",
    "for(i,j) in zip(y_test,y_pred):\n",
    "    if i!=j:\n",
    "        print(\"Actual value :\",i,\"Predicted value :\",j)\n",
    "print(\"Number of mislabeled points from test data set :\", (y_test != y_pred).sum())"
   ]
  },
  {
   "cell_type": "code",
   "execution_count": 22,
   "id": "c46507ad",
   "metadata": {},
   "outputs": [
    {
     "name": "stdout",
     "output_type": "stream",
     "text": [
      "Mean Absolute error : 1.1459882415688738\n",
      "Mean Squared error : 2.5040681499147883\n",
      "Root Mean Squared error : 1.582424769116936\n"
     ]
    }
   ],
   "source": [
    "from sklearn import metrics\n",
    "print(\"Mean Absolute error :\", metrics.mean_absolute_error(y_test,y_pred))\n",
    "print(\"Mean Squared error :\", metrics.mean_squared_error(y_test,y_pred))\n",
    "print(\"Root Mean Squared error :\", np.sqrt(metrics.mean_squared_error(y_test,y_pred)))"
   ]
  },
  {
   "cell_type": "code",
   "execution_count": 23,
   "id": "473e85ed",
   "metadata": {},
   "outputs": [
    {
     "name": "stdout",
     "output_type": "stream",
     "text": [
      "[ 0  1  2  3  4  5  6  7  8  9 10 11 12 13 14 15 16 17 18 19 20 21 22 23\n",
      " 24 25 26 27 28 29 30 31 32 33 34 35 36 37 38 39 40 41 42 43 44 45 46 47\n",
      " 48 49 50 51 52 53 54 55 56 57 58 59]\n"
     ]
    },
    {
     "data": {
      "image/png": "[encoded data removed]",
      "text/plain": [
       "<Figure size 432x288 with 1 Axes>"
      ]
     },
     "metadata": {
      "needs_background": "light"
     },
     "output_type": "display_data"
    }
   ],
   "source": [
    "import matplotlib.pyplot as plt\n",
    "c=X_test['TV'].count()\n",
    "xax=np.arange(c)\n",
    "print(xax)\n",
    "X_axis = np.arange(len(xax))\n",
    "plt.bar(X_axis-0.2, y_test, 0.6, label='Actual')\n",
    "plt.bar(X_axis+0.2, y_pred, 0.6, label='Predicted')\n",
    "\n",
    "plt.xlabel(\"Sales\")\n",
    "plt.ylabel(\"Actual/Predicted\")\n",
    "plt.title(\"Sales prediction\")\n",
    "plt.legend()\n",
    "plt.show()"
   ]
  },
  {
   "cell_type": "code",
   "execution_count": null,
   "id": "3c61b5f2",
   "metadata": {},
   "outputs": [],
   "source": []
  }
 ],
 "metadata": {
  "kernelspec": {
   "display_name": "Python 3 (ipykernel)",
   "language": "python",
   "name": "python3"
  },
  "language_info": {
   "codemirror_mode": {
    "name": "ipython",
    "version": 3
   },
   "file_extension": ".py",
   "mimetype": "text/x-python",
   "name": "python",
   "nbconvert_exporter": "python",
   "pygments_lexer": "ipython3",
   "version": "3.9.7"
  }
 },
 "nbformat": 4,
 "nbformat_minor": 5
}
