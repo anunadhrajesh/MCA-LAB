{
 "cells": [
  {
   "cell_type": "code",
   "execution_count": 29,
   "id": "e9964829",
   "metadata": {},
   "outputs": [],
   "source": [
    "from sklearn.feature_extraction.text import TfidfVectorizer, CountVectorizer\n",
    "\n",
    "from sklearn.metrics import confusion_matrix\n",
    "from sklearn.metrics import classification_report\n",
    "\n",
    "from sklearn.model_selection import cross_val_score\n",
    "from sklearn.model_selection import cross_val_predict\n",
    "from sklearn.model_selection import train_test_split\n",
    "\n",
    "from sklearn.svm import LinearSVC\n",
    "from sklearn.tree import DecisionTreeClassifier\n",
    "from sklearn import tree"
   ]
  },
  {
   "cell_type": "code",
   "execution_count": 30,
   "id": "ed858981",
   "metadata": {},
   "outputs": [],
   "source": [
    "with open(\"tickets.txt\") as f:\n",
    "    tickets = f.read().strip().split(\"\\n\")\n",
    "\n",
    "with open(\"labels_4.txt\") as f:\n",
    "    labels = f.read().strip().split(\"\\n\")\n"
   ]
  },
  {
   "cell_type": "code",
   "execution_count": 31,
   "id": "0d2f330e",
   "metadata": {},
   "outputs": [],
   "source": [
    "X_train, X_test, y_train, y_test = train_test_split(tickets, labels, test_size=0.1, random_state=1337)"
   ]
  },
  {
   "cell_type": "code",
   "execution_count": 32,
   "id": "261c5964",
   "metadata": {
    "scrolled": true
   },
   "outputs": [
    {
     "name": "stdout",
     "output_type": "stream",
     "text": [
      "              precision    recall  f1-score   support\n",
      "\n",
      "           0       0.74      0.76      0.75       157\n",
      "           1       0.55      0.51      0.53       161\n",
      "           2       0.56      0.61      0.58       137\n",
      "           3       0.99      0.95      0.97       145\n",
      "\n",
      "    accuracy                           0.70       600\n",
      "   macro avg       0.71      0.71      0.71       600\n",
      "weighted avg       0.71      0.70      0.70       600\n",
      "\n"
     ]
    },
    {
     "name": "stderr",
     "output_type": "stream",
     "text": [
      "/home/sjcet/anaconda3/lib/python3.9/site-packages/sklearn/svm/_base.py:985: ConvergenceWarning: Liblinear failed to converge, increase the number of iterations.\n",
      "  warnings.warn(\"Liblinear failed to converge, increase \"\n"
     ]
    }
   ],
   "source": [
    "vectorizer = CountVectorizer()\n",
    "svm = LinearSVC()\n",
    "X_train = vectorizer.fit_transform(X_train)\n",
    "X_test = vectorizer.transform(X_test)\n",
    "_ = svm.fit(X_train, y_train)\n",
    "y_pred = svm.predict(X_test)\n",
    "print(classification_report(y_test, y_pred))"
   ]
  },
  {
   "cell_type": "code",
   "execution_count": 20,
   "id": "b3858ceb",
   "metadata": {},
   "outputs": [],
   "source": [
    "# extra portion than cycle 5\n",
    "# print(confusion_matrix(y_test, y_pred))"
   ]
  },
  {
   "cell_type": "code",
   "execution_count": 21,
   "id": "6699cf5b",
   "metadata": {},
   "outputs": [],
   "source": [
    "# dt = DecisionTreeClassifier()\n",
    "# dt.fit(X_train, y_train)\n",
    "# y_pred = dt.predict(X_test)\n",
    "# print(classification_report(y_test, y_pred))\n",
    "# print(confusion_matrix(y_test, y_pred))"
   ]
  },
  {
   "cell_type": "code",
   "execution_count": 14,
   "id": "19a87474",
   "metadata": {},
   "outputs": [],
   "source": [
    "# from IPython.display import SVG\n",
    "# from graphviz import Source\n",
    "# from IPython.display import display\n",
    "# graph = Source(\n",
    "#     tree.export_graphviz(\n",
    "#         dt,\n",
    "#         out_file=None,\n",
    "#         feature_names=vectorizer.get_feature_names(),\n",
    "#         class_names=['3', '1', '2', '0'],\n",
    "#         filled = True)\n",
    "# )\n",
    "# display(SVG(graph.pipe(format='svg')))"
   ]
  },
  {
   "cell_type": "code",
   "execution_count": null,
   "id": "51de42ac",
   "metadata": {},
   "outputs": [],
   "source": []
  }
 ],
 "metadata": {
  "kernelspec": {
   "display_name": "Python 3 (ipykernel)",
   "language": "python",
   "name": "python3"
  },
  "language_info": {
   "codemirror_mode": {
    "name": "ipython",
    "version": 3
   },
   "file_extension": ".py",
   "mimetype": "text/x-python",
   "name": "python",
   "nbconvert_exporter": "python",
   "pygments_lexer": "ipython3",
   "version": "3.9.7"
  }
 },
 "nbformat": 4,
 "nbformat_minor": 5
}
